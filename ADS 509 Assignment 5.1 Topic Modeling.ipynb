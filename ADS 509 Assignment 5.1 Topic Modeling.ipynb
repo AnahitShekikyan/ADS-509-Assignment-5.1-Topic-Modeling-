{
 "cells": [
  {
   "cell_type": "markdown",
   "id": "bcbff592",
   "metadata": {},
   "source": [
    "# **Assignment 5.1: Topic Modeling**\n",
    "\n",
    "#### **Course:** ADS 509, Applied Large Language Models for Data Science\n",
    "\n",
    "#### **Name:** Anna Shekikyan\n",
    "\n",
    "#### **Date:** 10/06/2025\n",
    "\n",
    "#### **GitHub:** https://github.com/AnahitShekikyan/ADS-509-Assignment-5.1-Topic-Modeling-"
   ]
  },
  {
   "cell_type": "code",
   "execution_count": 1,
   "id": "c6cfc4b9",
   "metadata": {},
   "outputs": [],
   "source": [
    "import nltk\n",
    "try:\n",
    "    from nltk.corpus import brown\n",
    "    _ = brown.categories()\n",
    "except LookupError:\n",
    "    nltk.download(\"brown\")\n",
    "    nltk.download(\"stopwords\")\n",
    "    from nltk.corpus import brown  # re-import after download"
   ]
  },
  {
   "cell_type": "code",
   "execution_count": 2,
   "id": "2e4a7554",
   "metadata": {},
   "outputs": [],
   "source": [
    "# These libraries may be useful to you\n",
    "\n",
    "#!pip install pyLDAvis\n",
    "#!pip install pyLDAvis==3.4.1 --user  #You need to restart the Kernel after installation.\n",
    "# You also need a Python version => 3.9.0\n",
    "from nltk.corpus import brown\n",
    "\n",
    "import numpy as np\n",
    "import pandas as pd\n",
    "from tqdm.auto import tqdm\n",
    "\n",
    "import pyLDAvis\n",
    "import pyLDAvis.lda_model\n",
    "import pyLDAvis.gensim_models\n",
    "\n",
    "import spacy\n",
    "from sklearn.feature_extraction.text import TfidfVectorizer, CountVectorizer\n",
    "from sklearn.decomposition import NMF, TruncatedSVD, LatentDirichletAllocation\n",
    "\n",
    "from spacy.lang.en.stop_words import STOP_WORDS as stopwords\n",
    "\n",
    "from collections import Counter, defaultdict\n",
    "\n",
    "nlp = spacy.load('en_core_web_sm')"
   ]
  },
  {
   "cell_type": "code",
   "execution_count": 19,
   "id": "2889a148",
   "metadata": {},
   "outputs": [],
   "source": [
    "import numpy as np\n",
    "import pandas as pd\n",
    "from sklearn.metrics import (\n",
    "    homogeneity_score, completeness_score, v_measure_score,\n",
    "    adjusted_rand_score, adjusted_mutual_info_score\n",
    ")"
   ]
  },
  {
   "cell_type": "code",
   "execution_count": 5,
   "id": "49e07a35",
   "metadata": {},
   "outputs": [],
   "source": [
    "# This function comes from the BTAP repo.\n",
    "\n",
    "def display_topics(model, features, no_top_words=5):\n",
    "    for topic, words in enumerate(model.components_):\n",
    "        total = words.sum()\n",
    "        largest = words.argsort()[::-1] # invert sort order\n",
    "        print(\"\\nTopic %02d\" % topic)\n",
    "        for i in range(0, no_top_words):\n",
    "            print(\"  %s (%2.2f)\" % (features[largest[i]], abs(words[largest[i]]*100.0/total)))"
   ]
  },
  {
   "cell_type": "markdown",
   "id": "fbc5f946",
   "metadata": {},
   "source": [
    "## Getting to Know the Brown Corpus\n",
    "\n",
    "Let's spend a bit of time getting to know what's in the Brown corpus, our NLTK example of an \"overlapping\" corpus."
   ]
  },
  {
   "cell_type": "code",
   "execution_count": 6,
   "id": "f7458fe0",
   "metadata": {},
   "outputs": [
    {
     "name": "stdout",
     "output_type": "stream",
     "text": [
      "For adventure we have 29 articles.\n",
      "For belles_lettres we have 75 articles.\n",
      "For editorial we have 27 articles.\n",
      "For fiction we have 29 articles.\n",
      "For government we have 30 articles.\n",
      "For hobbies we have 36 articles.\n",
      "For humor we have 9 articles.\n",
      "For learned we have 80 articles.\n",
      "For lore we have 48 articles.\n",
      "For mystery we have 24 articles.\n",
      "For news we have 44 articles.\n",
      "For religion we have 17 articles.\n",
      "For reviews we have 17 articles.\n",
      "For romance we have 29 articles.\n",
      "For science_fiction we have 6 articles.\n"
     ]
    }
   ],
   "source": [
    "# categories of articles in Brown corpus\n",
    "for category in brown.categories() :\n",
    "    print(f\"For {category} we have {len(brown.fileids(categories=category))} articles.\")"
   ]
  },
  {
   "cell_type": "markdown",
   "id": "13e5871c",
   "metadata": {},
   "source": [
    "Let's create a dataframe of the articles in of hobbies, editorial, government, news, and romance."
   ]
  },
  {
   "cell_type": "code",
   "execution_count": 7,
   "id": "9ca278c0",
   "metadata": {},
   "outputs": [
    {
     "data": {
      "text/plain": [
       "(166, 3)"
      ]
     },
     "execution_count": 7,
     "metadata": {},
     "output_type": "execute_result"
    }
   ],
   "source": [
    "categories = ['editorial','government','news','romance','hobbies'] \n",
    "\n",
    "category_list = []\n",
    "file_ids = []\n",
    "texts = []\n",
    "\n",
    "for category in categories : \n",
    "    for file_id in brown.fileids(categories=category) :\n",
    "        \n",
    "        # build some lists for a dataframe\n",
    "        category_list.append(category)\n",
    "        file_ids.append(file_id)\n",
    "        \n",
    "        text = brown.words(fileids=file_id)\n",
    "        texts.append(\" \".join(text))\n",
    "\n",
    "        \n",
    "        \n",
    "df = pd.DataFrame()\n",
    "df['category'] = category_list\n",
    "df['id'] = file_ids\n",
    "df['text'] = texts \n",
    "\n",
    "df.shape"
   ]
  },
  {
   "cell_type": "code",
   "execution_count": 8,
   "id": "2a10219d",
   "metadata": {},
   "outputs": [],
   "source": [
    "# Let's add some helpful columns on the df\n",
    "df['char_len'] = df['text'].apply(len)\n",
    "df['word_len'] = df['text'].apply(lambda x: len(x.split()))"
   ]
  },
  {
   "cell_type": "code",
   "execution_count": 9,
   "id": "6daa0c9f",
   "metadata": {},
   "outputs": [
    {
     "data": {
      "text/plain": [
       "<Axes: xlabel='category'>"
      ]
     },
     "execution_count": 9,
     "metadata": {},
     "output_type": "execute_result"
    },
    {
     "data": {
      "image/png": "[encoded data removed]",
      "text/plain": [
       "<Figure size 1000x600 with 1 Axes>"
      ]
     },
     "metadata": {},
     "output_type": "display_data"
    }
   ],
   "source": [
    "%matplotlib inline\n",
    "df.groupby('category').agg({'word_len': 'mean'}).plot.bar(figsize=(10,6))"
   ]
  },
  {
   "cell_type": "code",
   "execution_count": 12,
   "id": "51f01cec",
   "metadata": {},
   "outputs": [],
   "source": [
    "stopwords |= {\"ll\",\"ve\"} # for warnings"
   ]
  },
  {
   "cell_type": "markdown",
   "id": "4bedae5b",
   "metadata": {},
   "source": [
    "Now do our TF-IDF and Count vectorizations."
   ]
  },
  {
   "cell_type": "code",
   "execution_count": 13,
   "id": "1491890e",
   "metadata": {},
   "outputs": [
    {
     "data": {
      "text/plain": [
       "(166, 4939)"
      ]
     },
     "execution_count": 13,
     "metadata": {},
     "output_type": "execute_result"
    }
   ],
   "source": [
    "count_text_vectorizer = CountVectorizer(stop_words=list(stopwords), min_df=5, max_df=0.7)\n",
    "count_text_vectors = count_text_vectorizer.fit_transform(df[\"text\"])\n",
    "count_text_vectors.shape"
   ]
  },
  {
   "cell_type": "code",
   "execution_count": 14,
   "id": "e1a4f775",
   "metadata": {},
   "outputs": [
    {
     "data": {
      "text/plain": [
       "(166, 4939)"
      ]
     },
     "execution_count": 14,
     "metadata": {},
     "output_type": "execute_result"
    }
   ],
   "source": [
    "tfidf_text_vectorizer = TfidfVectorizer(stop_words=list(stopwords), min_df=5, max_df=0.7)\n",
    "tfidf_text_vectors = tfidf_text_vectorizer.fit_transform(df['text'])\n",
    "tfidf_text_vectors.shape"
   ]
  },
  {
   "cell_type": "markdown",
   "id": "6f0253bb",
   "metadata": {},
   "source": [
    "**Q:** What do the two data frames `count_text_vectors` and `tfidf_text_vectors` hold? \n",
    "\n",
    "**A:** `count_text_vectors` is a sparse document–term count matrix (SciPy CSR). Each row is a document (here, 166 Brown texts), each column a vocabulary term (after stopwording and min/max df pruning), and each cell holds the integer frequency of that term in that document.\n",
    "`tfidf_text_vectors` has the same shape but stores TF–IDF–weighted floats instead of raw counts (down-weighting common terms, up-weighting discriminative ones, L2-normalized by default in `TfidfVectorizer`)."
   ]
  },
  {
   "cell_type": "markdown",
   "id": "5f3a074e",
   "metadata": {},
   "source": [
    "## Fitting a Non-Negative Matrix Factorization Model\n",
    "\n",
    "In this section the code to fit a five-topic NMF model has already been written. This code comes directly from the [BTAP repo](https://github.com/blueprints-for-text-analytics-python/blueprints-text), which will help you tremendously in the coming sections. "
   ]
  },
  {
   "cell_type": "code",
   "execution_count": 15,
   "id": "f0989f56",
   "metadata": {},
   "outputs": [],
   "source": [
    "nmf_text_model = NMF(n_components=5, random_state=314)\n",
    "W_text_matrix = nmf_text_model.fit_transform(tfidf_text_vectors)\n",
    "H_text_matrix = nmf_text_model.components_"
   ]
  },
  {
   "cell_type": "code",
   "execution_count": 16,
   "id": "806a737f",
   "metadata": {},
   "outputs": [
    {
     "name": "stdout",
     "output_type": "stream",
     "text": [
      "\n",
      "Topic 00\n",
      "  mr (0.51)\n",
      "  president (0.45)\n",
      "  kennedy (0.43)\n",
      "  united (0.42)\n",
      "  khrushchev (0.40)\n",
      "\n",
      "Topic 01\n",
      "  said (0.89)\n",
      "  didn (0.46)\n",
      "  thought (0.42)\n",
      "  man (0.38)\n",
      "  don (0.35)\n",
      "\n",
      "Topic 02\n",
      "  state (0.39)\n",
      "  development (0.36)\n",
      "  tax (0.33)\n",
      "  sales (0.30)\n",
      "  program (0.25)\n",
      "\n",
      "Topic 03\n",
      "  mrs (2.63)\n",
      "  mr (0.79)\n",
      "  said (0.63)\n",
      "  miss (0.53)\n",
      "  car (0.51)\n",
      "\n",
      "Topic 04\n",
      "  game (1.02)\n",
      "  league (0.75)\n",
      "  ball (0.73)\n",
      "  baseball (0.71)\n",
      "  team (0.67)\n"
     ]
    }
   ],
   "source": [
    "display_topics(nmf_text_model, tfidf_text_vectorizer.get_feature_names_out())"
   ]
  },
  {
   "cell_type": "markdown",
   "id": "4811b2f7",
   "metadata": {},
   "source": [
    "Now some work for you to do. Compare the NMF factorization to the original categories from the Brown Corpus.\n",
    "\n",
    "We are interested in the extent to which our NMF factorization agrees or disagrees with the original categories in the corpus. For each topic in your NMF model, tally the Brown categories and interpret the results. "
   ]
  },
  {
   "cell_type": "code",
   "execution_count": 18,
   "id": "18bf59f8",
   "metadata": {},
   "outputs": [
    {
     "data": {
      "text/html": [
       "<div>\n",
       "<style scoped>\n",
       "    .dataframe tbody tr th:only-of-type {\n",
       "        vertical-align: middle;\n",
       "    }\n",
       "\n",
       "    .dataframe tbody tr th {\n",
       "        vertical-align: top;\n",
       "    }\n",
       "\n",
       "    .dataframe thead th {\n",
       "        text-align: right;\n",
       "    }\n",
       "</style>\n",
       "<table border=\"1\" class=\"dataframe\">\n",
       "  <thead>\n",
       "    <tr style=\"text-align: right;\">\n",
       "      <th>Brown category</th>\n",
       "      <th>editorial</th>\n",
       "      <th>government</th>\n",
       "      <th>hobbies</th>\n",
       "      <th>news</th>\n",
       "      <th>romance</th>\n",
       "    </tr>\n",
       "    <tr>\n",
       "      <th>NMF topic</th>\n",
       "      <th></th>\n",
       "      <th></th>\n",
       "      <th></th>\n",
       "      <th></th>\n",
       "      <th></th>\n",
       "    </tr>\n",
       "  </thead>\n",
       "  <tbody>\n",
       "    <tr>\n",
       "      <th>0</th>\n",
       "      <td>20</td>\n",
       "      <td>4</td>\n",
       "      <td>0</td>\n",
       "      <td>8</td>\n",
       "      <td>0</td>\n",
       "    </tr>\n",
       "    <tr>\n",
       "      <th>1</th>\n",
       "      <td>4</td>\n",
       "      <td>0</td>\n",
       "      <td>8</td>\n",
       "      <td>0</td>\n",
       "      <td>29</td>\n",
       "    </tr>\n",
       "    <tr>\n",
       "      <th>2</th>\n",
       "      <td>2</td>\n",
       "      <td>26</td>\n",
       "      <td>26</td>\n",
       "      <td>11</td>\n",
       "      <td>0</td>\n",
       "    </tr>\n",
       "    <tr>\n",
       "      <th>3</th>\n",
       "      <td>0</td>\n",
       "      <td>0</td>\n",
       "      <td>1</td>\n",
       "      <td>17</td>\n",
       "      <td>0</td>\n",
       "    </tr>\n",
       "    <tr>\n",
       "      <th>4</th>\n",
       "      <td>1</td>\n",
       "      <td>0</td>\n",
       "      <td>1</td>\n",
       "      <td>8</td>\n",
       "      <td>0</td>\n",
       "    </tr>\n",
       "  </tbody>\n",
       "</table>\n",
       "</div>"
      ],
      "text/plain": [
       "Brown category  editorial  government  hobbies  news  romance\n",
       "NMF topic                                                    \n",
       "0                      20           4        0     8        0\n",
       "1                       4           0        8     0       29\n",
       "2                       2          26       26    11        0\n",
       "3                       0           0        1    17        0\n",
       "4                       1           0        1     8        0"
      ]
     },
     "metadata": {},
     "output_type": "display_data"
    },
    {
     "data": {
      "text/html": [
       "<div>\n",
       "<style scoped>\n",
       "    .dataframe tbody tr th:only-of-type {\n",
       "        vertical-align: middle;\n",
       "    }\n",
       "\n",
       "    .dataframe tbody tr th {\n",
       "        vertical-align: top;\n",
       "    }\n",
       "\n",
       "    .dataframe thead th {\n",
       "        text-align: right;\n",
       "    }\n",
       "</style>\n",
       "<table border=\"1\" class=\"dataframe\">\n",
       "  <thead>\n",
       "    <tr style=\"text-align: right;\">\n",
       "      <th>Brown category</th>\n",
       "      <th>editorial</th>\n",
       "      <th>government</th>\n",
       "      <th>hobbies</th>\n",
       "      <th>news</th>\n",
       "      <th>romance</th>\n",
       "    </tr>\n",
       "    <tr>\n",
       "      <th>NMF topic</th>\n",
       "      <th></th>\n",
       "      <th></th>\n",
       "      <th></th>\n",
       "      <th></th>\n",
       "      <th></th>\n",
       "    </tr>\n",
       "  </thead>\n",
       "  <tbody>\n",
       "    <tr>\n",
       "      <th>0</th>\n",
       "      <td>0.62</td>\n",
       "      <td>0.12</td>\n",
       "      <td>0.00</td>\n",
       "      <td>0.25</td>\n",
       "      <td>0.00</td>\n",
       "    </tr>\n",
       "    <tr>\n",
       "      <th>1</th>\n",
       "      <td>0.10</td>\n",
       "      <td>0.00</td>\n",
       "      <td>0.20</td>\n",
       "      <td>0.00</td>\n",
       "      <td>0.71</td>\n",
       "    </tr>\n",
       "    <tr>\n",
       "      <th>2</th>\n",
       "      <td>0.03</td>\n",
       "      <td>0.40</td>\n",
       "      <td>0.40</td>\n",
       "      <td>0.17</td>\n",
       "      <td>0.00</td>\n",
       "    </tr>\n",
       "    <tr>\n",
       "      <th>3</th>\n",
       "      <td>0.00</td>\n",
       "      <td>0.00</td>\n",
       "      <td>0.06</td>\n",
       "      <td>0.94</td>\n",
       "      <td>0.00</td>\n",
       "    </tr>\n",
       "    <tr>\n",
       "      <th>4</th>\n",
       "      <td>0.10</td>\n",
       "      <td>0.00</td>\n",
       "      <td>0.10</td>\n",
       "      <td>0.80</td>\n",
       "      <td>0.00</td>\n",
       "    </tr>\n",
       "  </tbody>\n",
       "</table>\n",
       "</div>"
      ],
      "text/plain": [
       "Brown category  editorial  government  hobbies  news  romance\n",
       "NMF topic                                                    \n",
       "0                    0.62        0.12     0.00  0.25     0.00\n",
       "1                    0.10        0.00     0.20  0.00     0.71\n",
       "2                    0.03        0.40     0.40  0.17     0.00\n",
       "3                    0.00        0.00     0.06  0.94     0.00\n",
       "4                    0.10        0.00     0.10  0.80     0.00"
      ]
     },
     "metadata": {},
     "output_type": "display_data"
    },
    {
     "name": "stdout",
     "output_type": "stream",
     "text": [
      "Homogeneity: 0.449\n",
      "Completeness: 0.497\n",
      "V-measure: 0.472\n",
      "Adjusted Rand Index: 0.329\n",
      "Adjusted Mutual Info: 0.453\n"
     ]
    }
   ],
   "source": [
    "# NMF vs. Brown categories, dominant topic, cross-tab, and metrics \n",
    "\n",
    "# dominant NMF topic for each document\n",
    "nmf_dom = W_text_matrix.argmax(axis=1)\n",
    "\n",
    "# cross-tab: which Brown categories fall into each topic?\n",
    "nmf_crosstab = pd.crosstab(\n",
    "    pd.Series(nmf_dom, name=\"NMF topic\"),\n",
    "    pd.Series(df[\"category\"], name=\"Brown category\")\n",
    ")\n",
    "display(nmf_crosstab)\n",
    "\n",
    "# row-normalized percentages for readability\n",
    "display(nmf_crosstab.div(nmf_crosstab.sum(axis=1), axis=0).round(2))\n",
    "\n",
    "# unsupervised clustering metrics vs. gold labels (Brown categories)\n",
    "label_to_int = {c:i for i,c in enumerate(sorted(df[\"category\"].unique()))}\n",
    "y_true = df[\"category\"].map(label_to_int).values\n",
    "y_pred = nmf_dom\n",
    "\n",
    "print(\"Homogeneity:\", round(homogeneity_score(y_true, y_pred), 3))\n",
    "print(\"Completeness:\", round(completeness_score(y_true, y_pred), 3))\n",
    "print(\"V-measure:\", round(v_measure_score(y_true, y_pred), 3))\n",
    "print(\"Adjusted Rand Index:\", round(adjusted_rand_score(y_true, y_pred), 3))\n",
    "print(\"Adjusted Mutual Info:\", round(adjusted_mutual_info_score(y_true, y_pred), 3))"
   ]
  },
  {
   "cell_type": "markdown",
   "id": "d3273c1b",
   "metadata": {},
   "source": [
    "**Q:** How does your five-topic NMF model compare to the original Brown categories? \n",
    "\n",
    "**A:** T3 and T4 map to news; T0 maps mostly to editorial; T1 maps to romance; T2 is mixed (government + hobbies). Overall match is moderate (V-measure 0.472, ARI 0.329)."
   ]
  },
  {
   "cell_type": "markdown",
   "id": "b33d0a07",
   "metadata": {},
   "source": [
    "## Fitting an LSA Model\n",
    "\n",
    "In this section, follow the example from the repository and fit an LSA model (called a \"TruncatedSVD\" in `sklearn`). Again fit a five-topic model and compare it to the actual categories in the Brown corpus. Use the TF-IDF vectors for your fit, as above. \n",
    "\n",
    "To be explicit, we are once again interested in the extent to which this LSA factorization agrees or disagrees with the original categories in the corpus. For each topic in your model, tally the Brown categories and interpret the results. \n"
   ]
  },
  {
   "cell_type": "code",
   "execution_count": 20,
   "id": "b6439069",
   "metadata": {},
   "outputs": [
    {
     "name": "stdout",
     "output_type": "stream",
     "text": [
      "LSA Topic 00: said, mr, mrs, state, man, president, 000, united, old, american\n",
      "LSA Topic 01: said, state, didn, thought, united, states, mrs, got, don, looked\n",
      "LSA Topic 02: mrs, mr, said, af, development, water, kennedy, khrushchev, laos, president\n",
      "LSA Topic 03: mrs, khrushchev, berlin, soviet, kennedy, club, game, united, laos, jr\n",
      "LSA Topic 04: game, mrs, league, baseball, ball, team, runs, player, tax, yankees\n"
     ]
    },
    {
     "data": {
      "text/html": [
       "<div>\n",
       "<style scoped>\n",
       "    .dataframe tbody tr th:only-of-type {\n",
       "        vertical-align: middle;\n",
       "    }\n",
       "\n",
       "    .dataframe tbody tr th {\n",
       "        vertical-align: top;\n",
       "    }\n",
       "\n",
       "    .dataframe thead th {\n",
       "        text-align: right;\n",
       "    }\n",
       "</style>\n",
       "<table border=\"1\" class=\"dataframe\">\n",
       "  <thead>\n",
       "    <tr style=\"text-align: right;\">\n",
       "      <th>Brown category</th>\n",
       "      <th>editorial</th>\n",
       "      <th>government</th>\n",
       "      <th>hobbies</th>\n",
       "      <th>news</th>\n",
       "      <th>romance</th>\n",
       "    </tr>\n",
       "    <tr>\n",
       "      <th>LSA topic</th>\n",
       "      <th></th>\n",
       "      <th></th>\n",
       "      <th></th>\n",
       "      <th></th>\n",
       "      <th></th>\n",
       "    </tr>\n",
       "  </thead>\n",
       "  <tbody>\n",
       "    <tr>\n",
       "      <th>0</th>\n",
       "      <td>27</td>\n",
       "      <td>30</td>\n",
       "      <td>36</td>\n",
       "      <td>34</td>\n",
       "      <td>21</td>\n",
       "    </tr>\n",
       "    <tr>\n",
       "      <th>1</th>\n",
       "      <td>0</td>\n",
       "      <td>0</td>\n",
       "      <td>0</td>\n",
       "      <td>0</td>\n",
       "      <td>8</td>\n",
       "    </tr>\n",
       "    <tr>\n",
       "      <th>3</th>\n",
       "      <td>0</td>\n",
       "      <td>0</td>\n",
       "      <td>0</td>\n",
       "      <td>3</td>\n",
       "      <td>0</td>\n",
       "    </tr>\n",
       "    <tr>\n",
       "      <th>4</th>\n",
       "      <td>0</td>\n",
       "      <td>0</td>\n",
       "      <td>0</td>\n",
       "      <td>7</td>\n",
       "      <td>0</td>\n",
       "    </tr>\n",
       "  </tbody>\n",
       "</table>\n",
       "</div>"
      ],
      "text/plain": [
       "Brown category  editorial  government  hobbies  news  romance\n",
       "LSA topic                                                    \n",
       "0                      27          30       36    34       21\n",
       "1                       0           0        0     0        8\n",
       "3                       0           0        0     3        0\n",
       "4                       0           0        0     7        0"
      ]
     },
     "metadata": {},
     "output_type": "display_data"
    },
    {
     "data": {
      "text/html": [
       "<div>\n",
       "<style scoped>\n",
       "    .dataframe tbody tr th:only-of-type {\n",
       "        vertical-align: middle;\n",
       "    }\n",
       "\n",
       "    .dataframe tbody tr th {\n",
       "        vertical-align: top;\n",
       "    }\n",
       "\n",
       "    .dataframe thead th {\n",
       "        text-align: right;\n",
       "    }\n",
       "</style>\n",
       "<table border=\"1\" class=\"dataframe\">\n",
       "  <thead>\n",
       "    <tr style=\"text-align: right;\">\n",
       "      <th>Brown category</th>\n",
       "      <th>editorial</th>\n",
       "      <th>government</th>\n",
       "      <th>hobbies</th>\n",
       "      <th>news</th>\n",
       "      <th>romance</th>\n",
       "    </tr>\n",
       "    <tr>\n",
       "      <th>LSA topic</th>\n",
       "      <th></th>\n",
       "      <th></th>\n",
       "      <th></th>\n",
       "      <th></th>\n",
       "      <th></th>\n",
       "    </tr>\n",
       "  </thead>\n",
       "  <tbody>\n",
       "    <tr>\n",
       "      <th>0</th>\n",
       "      <td>0.18</td>\n",
       "      <td>0.2</td>\n",
       "      <td>0.24</td>\n",
       "      <td>0.23</td>\n",
       "      <td>0.14</td>\n",
       "    </tr>\n",
       "    <tr>\n",
       "      <th>1</th>\n",
       "      <td>0.00</td>\n",
       "      <td>0.0</td>\n",
       "      <td>0.00</td>\n",
       "      <td>0.00</td>\n",
       "      <td>1.00</td>\n",
       "    </tr>\n",
       "    <tr>\n",
       "      <th>3</th>\n",
       "      <td>0.00</td>\n",
       "      <td>0.0</td>\n",
       "      <td>0.00</td>\n",
       "      <td>1.00</td>\n",
       "      <td>0.00</td>\n",
       "    </tr>\n",
       "    <tr>\n",
       "      <th>4</th>\n",
       "      <td>0.00</td>\n",
       "      <td>0.0</td>\n",
       "      <td>0.00</td>\n",
       "      <td>1.00</td>\n",
       "      <td>0.00</td>\n",
       "    </tr>\n",
       "  </tbody>\n",
       "</table>\n",
       "</div>"
      ],
      "text/plain": [
       "Brown category  editorial  government  hobbies  news  romance\n",
       "LSA topic                                                    \n",
       "0                    0.18         0.2     0.24  0.23     0.14\n",
       "1                    0.00         0.0     0.00  0.00     1.00\n",
       "3                    0.00         0.0     0.00  1.00     0.00\n",
       "4                    0.00         0.0     0.00  1.00     0.00"
      ]
     },
     "metadata": {},
     "output_type": "display_data"
    },
    {
     "name": "stdout",
     "output_type": "stream",
     "text": [
      "Homogeneity: 0.108\n",
      "Completeness: 0.38\n",
      "V-measure: 0.169\n",
      "Adjusted Rand Index: 0.006\n",
      "Adjusted Mutual Info: 0.132\n"
     ]
    }
   ],
   "source": [
    "# LSA\n",
    "lsa_k = 5\n",
    "svd = TruncatedSVD(n_components=lsa_k, random_state=314)\n",
    "lsa_doc_topic = svd.fit_transform(tfidf_text_vectors)   # doc x k (component scores)\n",
    "\n",
    "# top terms per LSA component (by absolute loading)\n",
    "terms = tfidf_text_vectorizer.get_feature_names_out()\n",
    "for k, row in enumerate(svd.components_):\n",
    "    idx = np.argsort(np.abs(row))[::-1][:10]\n",
    "    tops = [f\"{terms[i]}\" for i in idx]\n",
    "    print(f\"LSA Topic {k:02d}: \" + \", \".join(tops))\n",
    "\n",
    "# dominant component per doc\n",
    "lsa_dom = lsa_doc_topic.argmax(axis=1)\n",
    "\n",
    "# cross-tab vs. brown categories\n",
    "lsa_crosstab = pd.crosstab(\n",
    "    pd.Series(lsa_dom, name=\"LSA topic\"),\n",
    "    pd.Series(df[\"category\"], name=\"Brown category\")\n",
    ")\n",
    "display(lsa_crosstab)\n",
    "display(lsa_crosstab.div(lsa_crosstab.sum(axis=1), axis=0).round(2))  # row-normalized\n",
    "\n",
    "# unsupervised clustering metrics\n",
    "label_to_int = {c:i for i,c in enumerate(sorted(df[\"category\"].unique()))}\n",
    "y_true = df[\"category\"].map(label_to_int).values\n",
    "y_pred_lsa = lsa_dom\n",
    "\n",
    "print(\"Homogeneity:\", round(homogeneity_score(y_true, y_pred_lsa), 3))\n",
    "print(\"Completeness:\", round(completeness_score(y_true, y_pred_lsa), 3))\n",
    "print(\"V-measure:\", round(v_measure_score(y_true, y_pred_lsa), 3))\n",
    "print(\"Adjusted Rand Index:\", round(adjusted_rand_score(y_true, y_pred_lsa), 3))\n",
    "print(\"Adjusted Mutual Info:\", round(adjusted_mutual_info_score(y_true, y_pred_lsa), 3))"
   ]
  },
  {
   "cell_type": "markdown",
   "id": "d6484420",
   "metadata": {},
   "source": [
    "**Q:** How does your five-topic LSA model compare to the original Brown categories? \n",
    "\n",
    "**A:** T1 maps cleanly to romance, T3 and T4 capture small news slices, and T0 is broadly mixed across all categories; overall alignment is weak (V-measure 0.169, ARI 0.006)."
   ]
  },
  {
   "cell_type": "code",
   "execution_count": 21,
   "id": "93868eae",
   "metadata": {},
   "outputs": [
    {
     "name": "stdout",
     "output_type": "stream",
     "text": [
      "\n",
      "Topic 00\n",
      "  said (0.44)\n",
      "  mr (0.25)\n",
      "  mrs (0.22)\n",
      "  state (0.20)\n",
      "  man (0.17)\n",
      "  president (0.16)\n",
      "  000 (0.15)\n",
      "  united (0.14)\n",
      "  old (0.14)\n",
      "  american (0.14)\n",
      "\n",
      "Topic 01\n",
      "  said (4.32)\n",
      "  didn (2.89)\n",
      "  thought (2.42)\n",
      "  mrs (2.18)\n",
      "  got (2.16)\n",
      "  don (2.10)\n",
      "  looked (2.00)\n",
      "  mother (1.96)\n",
      "  eyes (1.89)\n",
      "  went (1.87)\n",
      "\n",
      "Topic 02\n",
      "  mrs (3.09)\n",
      "  mr (1.69)\n",
      "  said (1.03)\n",
      "  kennedy (0.81)\n",
      "  khrushchev (0.76)\n",
      "  laos (0.75)\n",
      "  president (0.75)\n",
      "  committee (0.68)\n",
      "  berlin (0.65)\n",
      "  party (0.65)\n",
      "\n",
      "Topic 03\n",
      "  mrs (26.98)\n",
      "  club (6.09)\n",
      "  game (5.92)\n",
      "  jr (5.14)\n",
      "  university (4.80)\n",
      "  dallas (4.75)\n",
      "  home (4.66)\n",
      "  season (4.63)\n",
      "  league (4.52)\n",
      "  miss (4.52)\n",
      "\n",
      "Topic 04\n",
      "  game (4.66)\n",
      "  league (3.34)\n",
      "  baseball (3.30)\n",
      "  ball (3.20)\n",
      "  team (3.02)\n",
      "  runs (2.93)\n",
      "  player (2.58)\n",
      "  yankees (2.48)\n",
      "  season (2.35)\n",
      "  hit (2.30)\n"
     ]
    }
   ],
   "source": [
    "# call display_topics \n",
    "display_topics(svd, tfidf_text_vectorizer.get_feature_names_out(), no_top_words=10)"
   ]
  },
  {
   "cell_type": "markdown",
   "id": "f0ddca77",
   "metadata": {},
   "source": [
    "**Q:** What is your interpretation of the display topics output? \n",
    "\n",
    "**A:** T04 clearly captures sports/hobbies vocabulary (game, league, baseball, team, yankees). T03 leans leisure/sports with social context (club, league, season, names), so a hobbies/news mix. T02 reflects government/Cold War politics (kennedy, khrushchev, berlin, committee). T01 reads as narrative/romance language (didn, thought, mother, eyes, went). T00 is a broad editorial/news axis with general reportage terms (said, state, president, united), so it’s mixed."
   ]
  },
  {
   "cell_type": "markdown",
   "id": "69c2d2b0",
   "metadata": {},
   "source": [
    "## Fitting an LDA Model\n",
    "\n",
    "Finally, fit a five-topic LDA model using the count vectors (`count_text_vectors` from above). Display the results using `pyLDAvis.display` and describe what you learn from that visualization. "
   ]
  },
  {
   "cell_type": "code",
   "execution_count": 22,
   "id": "bf53f056",
   "metadata": {},
   "outputs": [
    {
     "data": {
      "text/html": [
       "<style>#sk-container-id-1 {color: black;}#sk-container-id-1 pre{padding: 0;}#sk-container-id-1 div.sk-toggleable {background-color: white;}#sk-container-id-1 label.sk-toggleable__label {cursor: pointer;display: block;width: 100%;margin-bottom: 0;padding: 0.3em;box-sizing: border-box;text-align: center;}#sk-container-id-1 label.sk-toggleable__label-arrow:before {content: \"▸\";float: left;margin-right: 0.25em;color: #696969;}#sk-container-id-1 label.sk-toggleable__label-arrow:hover:before {color: black;}#sk-container-id-1 div.sk-estimator:hover label.sk-toggleable__label-arrow:before {color: black;}#sk-container-id-1 div.sk-toggleable__content {max-height: 0;max-width: 0;overflow: hidden;text-align: left;background-color: #f0f8ff;}#sk-container-id-1 div.sk-toggleable__content pre {margin: 0.2em;color: black;border-radius: 0.25em;background-color: #f0f8ff;}#sk-container-id-1 input.sk-toggleable__control:checked~div.sk-toggleable__content {max-height: 200px;max-width: 100%;overflow: auto;}#sk-container-id-1 input.sk-toggleable__control:checked~label.sk-toggleable__label-arrow:before {content: \"▾\";}#sk-container-id-1 div.sk-estimator input.sk-toggleable__control:checked~label.sk-toggleable__label {background-color: #d4ebff;}#sk-container-id-1 div.sk-label input.sk-toggleable__control:checked~label.sk-toggleable__label {background-color: #d4ebff;}#sk-container-id-1 input.sk-hidden--visually {border: 0;clip: rect(1px 1px 1px 1px);clip: rect(1px, 1px, 1px, 1px);height: 1px;margin: -1px;overflow: hidden;padding: 0;position: absolute;width: 1px;}#sk-container-id-1 div.sk-estimator {font-family: monospace;background-color: #f0f8ff;border: 1px dotted black;border-radius: 0.25em;box-sizing: border-box;margin-bottom: 0.5em;}#sk-container-id-1 div.sk-estimator:hover {background-color: #d4ebff;}#sk-container-id-1 div.sk-parallel-item::after {content: \"\";width: 100%;border-bottom: 1px solid gray;flex-grow: 1;}#sk-container-id-1 div.sk-label:hover label.sk-toggleable__label {background-color: #d4ebff;}#sk-container-id-1 div.sk-serial::before {content: \"\";position: absolute;border-left: 1px solid gray;box-sizing: border-box;top: 0;bottom: 0;left: 50%;z-index: 0;}#sk-container-id-1 div.sk-serial {display: flex;flex-direction: column;align-items: center;background-color: white;padding-right: 0.2em;padding-left: 0.2em;position: relative;}#sk-container-id-1 div.sk-item {position: relative;z-index: 1;}#sk-container-id-1 div.sk-parallel {display: flex;align-items: stretch;justify-content: center;background-color: white;position: relative;}#sk-container-id-1 div.sk-item::before, #sk-container-id-1 div.sk-parallel-item::before {content: \"\";position: absolute;border-left: 1px solid gray;box-sizing: border-box;top: 0;bottom: 0;left: 50%;z-index: -1;}#sk-container-id-1 div.sk-parallel-item {display: flex;flex-direction: column;z-index: 1;position: relative;background-color: white;}#sk-container-id-1 div.sk-parallel-item:first-child::after {align-self: flex-end;width: 50%;}#sk-container-id-1 div.sk-parallel-item:last-child::after {align-self: flex-start;width: 50%;}#sk-container-id-1 div.sk-parallel-item:only-child::after {width: 0;}#sk-container-id-1 div.sk-dashed-wrapped {border: 1px dashed gray;margin: 0 0.4em 0.5em 0.4em;box-sizing: border-box;padding-bottom: 0.4em;background-color: white;}#sk-container-id-1 div.sk-label label {font-family: monospace;font-weight: bold;display: inline-block;line-height: 1.2em;}#sk-container-id-1 div.sk-label-container {text-align: center;}#sk-container-id-1 div.sk-container {/* jupyter's `normalize.less` sets `[hidden] { display: none; }` but bootstrap.min.css set `[hidden] { display: none !important; }` so we also need the `!important` here to be able to override the default hidden behavior on the sphinx rendered scikit-learn.org. See: https://github.com/scikit-learn/scikit-learn/issues/21755 */display: inline-block !important;position: relative;}#sk-container-id-1 div.sk-text-repr-fallback {display: none;}</style><div id=\"sk-container-id-1\" class=\"sk-top-container\"><div class=\"sk-text-repr-fallback\"><pre>LatentDirichletAllocation(max_iter=50, n_components=5, random_state=314)</pre><b>In a Jupyter environment, please rerun this cell to show the HTML representation or trust the notebook. <br />On GitHub, the HTML representation is unable to render, please try loading this page with nbviewer.org.</b></div><div class=\"sk-container\" hidden><div class=\"sk-item\"><div class=\"sk-estimator sk-toggleable\"><input class=\"sk-toggleable__control sk-hidden--visually\" id=\"sk-estimator-id-1\" type=\"checkbox\" checked><label for=\"sk-estimator-id-1\" class=\"sk-toggleable__label sk-toggleable__label-arrow\">LatentDirichletAllocation</label><div class=\"sk-toggleable__content\"><pre>LatentDirichletAllocation(max_iter=50, n_components=5, random_state=314)</pre></div></div></div></div></div>"
      ],
      "text/plain": [
       "LatentDirichletAllocation(max_iter=50, n_components=5, random_state=314)"
      ]
     },
     "execution_count": 22,
     "metadata": {},
     "output_type": "execute_result"
    }
   ],
   "source": [
    "# Fit your LDA model here\n",
    "lda_text_model = LatentDirichletAllocation(\n",
    "    n_components=5,\n",
    "    learning_method=\"batch\",\n",
    "    max_iter=50,\n",
    "    random_state=314\n",
    ")\n",
    "lda_text_model.fit(count_text_vectors)"
   ]
  },
  {
   "cell_type": "code",
   "execution_count": 23,
   "id": "55522b52",
   "metadata": {},
   "outputs": [
    {
     "name": "stdout",
     "output_type": "stream",
     "text": [
      "\n",
      "Topic 00\n",
      "  state (1.23)\n",
      "  states (0.85)\n",
      "  development (0.72)\n",
      "  tax (0.71)\n",
      "  government (0.61)\n",
      "  business (0.61)\n",
      "  sales (0.56)\n",
      "  united (0.55)\n",
      "  fiscal (0.51)\n",
      "  program (0.50)\n",
      "\n",
      "Topic 01\n",
      "  said (1.46)\n",
      "  mrs (0.92)\n",
      "  old (0.62)\n",
      "  man (0.53)\n",
      "  little (0.49)\n",
      "  good (0.45)\n",
      "  day (0.43)\n",
      "  know (0.43)\n",
      "  got (0.41)\n",
      "  way (0.40)\n",
      "\n",
      "Topic 02\n",
      "  said (0.68)\n",
      "  mr (0.65)\n",
      "  president (0.62)\n",
      "  state (0.50)\n",
      "  american (0.44)\n",
      "  united (0.41)\n",
      "  world (0.37)\n",
      "  states (0.35)\n",
      "  000 (0.34)\n",
      "  government (0.33)\n",
      "\n",
      "Topic 03\n",
      "  af (0.69)\n",
      "  design (0.60)\n",
      "  forces (0.47)\n",
      "  aircraft (0.47)\n",
      "  pieces (0.45)\n",
      "  bridge (0.44)\n",
      "  medical (0.41)\n",
      "  missile (0.40)\n",
      "  pressure (0.40)\n",
      "  form (0.39)\n",
      "\n",
      "Topic 04\n",
      "  feed (0.52)\n",
      "  use (0.51)\n",
      "  water (0.44)\n",
      "  clay (0.44)\n",
      "  game (0.43)\n",
      "  good (0.40)\n",
      "  home (0.38)\n",
      "  national (0.35)\n",
      "  brown (0.34)\n",
      "  area (0.34)\n"
     ]
    }
   ],
   "source": [
    "# display_topics\n",
    "display_topics(lda_text_model, count_text_vectorizer.get_feature_names_out(), no_top_words=10)"
   ]
  },
  {
   "cell_type": "code",
   "execution_count": 24,
   "id": "441c7f52",
   "metadata": {},
   "outputs": [
    {
     "data": {
      "text/html": [
       "<div>\n",
       "<style scoped>\n",
       "    .dataframe tbody tr th:only-of-type {\n",
       "        vertical-align: middle;\n",
       "    }\n",
       "\n",
       "    .dataframe tbody tr th {\n",
       "        vertical-align: top;\n",
       "    }\n",
       "\n",
       "    .dataframe thead th {\n",
       "        text-align: right;\n",
       "    }\n",
       "</style>\n",
       "<table border=\"1\" class=\"dataframe\">\n",
       "  <thead>\n",
       "    <tr style=\"text-align: right;\">\n",
       "      <th>Brown category</th>\n",
       "      <th>editorial</th>\n",
       "      <th>government</th>\n",
       "      <th>hobbies</th>\n",
       "      <th>news</th>\n",
       "      <th>romance</th>\n",
       "    </tr>\n",
       "    <tr>\n",
       "      <th>LDA topic</th>\n",
       "      <th></th>\n",
       "      <th></th>\n",
       "      <th></th>\n",
       "      <th></th>\n",
       "      <th></th>\n",
       "    </tr>\n",
       "  </thead>\n",
       "  <tbody>\n",
       "    <tr>\n",
       "      <th>0</th>\n",
       "      <td>0</td>\n",
       "      <td>17</td>\n",
       "      <td>2</td>\n",
       "      <td>2</td>\n",
       "      <td>0</td>\n",
       "    </tr>\n",
       "    <tr>\n",
       "      <th>1</th>\n",
       "      <td>5</td>\n",
       "      <td>0</td>\n",
       "      <td>4</td>\n",
       "      <td>7</td>\n",
       "      <td>29</td>\n",
       "    </tr>\n",
       "    <tr>\n",
       "      <th>2</th>\n",
       "      <td>22</td>\n",
       "      <td>10</td>\n",
       "      <td>2</td>\n",
       "      <td>28</td>\n",
       "      <td>0</td>\n",
       "    </tr>\n",
       "    <tr>\n",
       "      <th>3</th>\n",
       "      <td>0</td>\n",
       "      <td>2</td>\n",
       "      <td>10</td>\n",
       "      <td>0</td>\n",
       "      <td>0</td>\n",
       "    </tr>\n",
       "    <tr>\n",
       "      <th>4</th>\n",
       "      <td>0</td>\n",
       "      <td>1</td>\n",
       "      <td>18</td>\n",
       "      <td>7</td>\n",
       "      <td>0</td>\n",
       "    </tr>\n",
       "  </tbody>\n",
       "</table>\n",
       "</div>"
      ],
      "text/plain": [
       "Brown category  editorial  government  hobbies  news  romance\n",
       "LDA topic                                                    \n",
       "0                       0          17        2     2        0\n",
       "1                       5           0        4     7       29\n",
       "2                      22          10        2    28        0\n",
       "3                       0           2       10     0        0\n",
       "4                       0           1       18     7        0"
      ]
     },
     "metadata": {},
     "output_type": "display_data"
    },
    {
     "data": {
      "text/html": [
       "<div>\n",
       "<style scoped>\n",
       "    .dataframe tbody tr th:only-of-type {\n",
       "        vertical-align: middle;\n",
       "    }\n",
       "\n",
       "    .dataframe tbody tr th {\n",
       "        vertical-align: top;\n",
       "    }\n",
       "\n",
       "    .dataframe thead th {\n",
       "        text-align: right;\n",
       "    }\n",
       "</style>\n",
       "<table border=\"1\" class=\"dataframe\">\n",
       "  <thead>\n",
       "    <tr style=\"text-align: right;\">\n",
       "      <th>Brown category</th>\n",
       "      <th>editorial</th>\n",
       "      <th>government</th>\n",
       "      <th>hobbies</th>\n",
       "      <th>news</th>\n",
       "      <th>romance</th>\n",
       "    </tr>\n",
       "    <tr>\n",
       "      <th>LDA topic</th>\n",
       "      <th></th>\n",
       "      <th></th>\n",
       "      <th></th>\n",
       "      <th></th>\n",
       "      <th></th>\n",
       "    </tr>\n",
       "  </thead>\n",
       "  <tbody>\n",
       "    <tr>\n",
       "      <th>0</th>\n",
       "      <td>0.00</td>\n",
       "      <td>0.81</td>\n",
       "      <td>0.10</td>\n",
       "      <td>0.10</td>\n",
       "      <td>0.00</td>\n",
       "    </tr>\n",
       "    <tr>\n",
       "      <th>1</th>\n",
       "      <td>0.11</td>\n",
       "      <td>0.00</td>\n",
       "      <td>0.09</td>\n",
       "      <td>0.16</td>\n",
       "      <td>0.64</td>\n",
       "    </tr>\n",
       "    <tr>\n",
       "      <th>2</th>\n",
       "      <td>0.35</td>\n",
       "      <td>0.16</td>\n",
       "      <td>0.03</td>\n",
       "      <td>0.45</td>\n",
       "      <td>0.00</td>\n",
       "    </tr>\n",
       "    <tr>\n",
       "      <th>3</th>\n",
       "      <td>0.00</td>\n",
       "      <td>0.17</td>\n",
       "      <td>0.83</td>\n",
       "      <td>0.00</td>\n",
       "      <td>0.00</td>\n",
       "    </tr>\n",
       "    <tr>\n",
       "      <th>4</th>\n",
       "      <td>0.00</td>\n",
       "      <td>0.04</td>\n",
       "      <td>0.69</td>\n",
       "      <td>0.27</td>\n",
       "      <td>0.00</td>\n",
       "    </tr>\n",
       "  </tbody>\n",
       "</table>\n",
       "</div>"
      ],
      "text/plain": [
       "Brown category  editorial  government  hobbies  news  romance\n",
       "LDA topic                                                    \n",
       "0                    0.00        0.81     0.10  0.10     0.00\n",
       "1                    0.11        0.00     0.09  0.16     0.64\n",
       "2                    0.35        0.16     0.03  0.45     0.00\n",
       "3                    0.00        0.17     0.83  0.00     0.00\n",
       "4                    0.00        0.04     0.69  0.27     0.00"
      ]
     },
     "metadata": {},
     "output_type": "display_data"
    },
    {
     "name": "stdout",
     "output_type": "stream",
     "text": [
      "Homogeneity: 0.417\n",
      "Completeness: 0.454\n",
      "V-measure: 0.435\n",
      "Adjusted Rand Index: 0.311\n",
      "Adjusted Mutual Info: 0.415\n"
     ]
    }
   ],
   "source": [
    "# LDA: dominant topic per doc, cross-tab vs Brown, and metrics\n",
    "lda_doc_topic = lda_text_model.transform(count_text_vectors)\n",
    "lda_dom = lda_doc_topic.argmax(axis=1)\n",
    "\n",
    "lda_crosstab = pd.crosstab(\n",
    "    pd.Series(lda_dom, name=\"LDA topic\"),\n",
    "    pd.Series(df[\"category\"], name=\"Brown category\")\n",
    ")\n",
    "display(lda_crosstab)\n",
    "display(lda_crosstab.div(lda_crosstab.sum(axis=1), axis=0).round(2))\n",
    "\n",
    "from sklearn.metrics import homogeneity_score, completeness_score, v_measure_score, adjusted_rand_score, adjusted_mutual_info_score\n",
    "label_to_int = {c:i for i,c in enumerate(sorted(df[\"category\"].unique()))}\n",
    "y_true = df[\"category\"].map(label_to_int).values\n",
    "y_pred_lda = lda_dom\n",
    "\n",
    "print(\"Homogeneity:\", round(homogeneity_score(y_true, y_pred_lda), 3))\n",
    "print(\"Completeness:\", round(completeness_score(y_true, y_pred_lda), 3))\n",
    "print(\"V-measure:\", round(v_measure_score(y_true, y_pred_lda), 3))\n",
    "print(\"Adjusted Rand Index:\", round(adjusted_rand_score(y_true, y_pred_lda), 3))\n",
    "print(\"Adjusted Mutual Info:\", round(adjusted_mutual_info_score(y_true, y_pred_lda), 3))"
   ]
  },
  {
   "cell_type": "markdown",
   "id": "e2a63149",
   "metadata": {},
   "source": [
    "**Q:** What inference do you draw from the displayed topics for your LDA model? \n",
    "\n",
    "**A:** T0 is government/economy, T2 is news/politics, T1 is narrative/romance/editorial, T3 is hobbies/technical, and T4 is hobbies/sports. Topics are coherent and distinct. \n",
    "\n",
    "**Q:** Repeat the tallying of Brown categories within your topics. How does your five-topic LDA model compare to the original Brown categories? \n",
    "\n",
    "**A:** T0 → government, T1 → romance (with some news), T2 → news (with some editorial), T3 → hobbies, T4 → hobbies (with some news). Overall match is moderate (V-measure 0.435, ARI 0.311)."
   ]
  },
  {
   "cell_type": "code",
   "execution_count": 25,
   "id": "17c5f224",
   "metadata": {},
   "outputs": [],
   "source": [
    "lda_display = pyLDAvis.lda_model.prepare(lda_text_model, count_text_vectors, count_text_vectorizer, sort_topics=False)"
   ]
  },
  {
   "cell_type": "code",
   "execution_count": 27,
   "id": "c117679e",
   "metadata": {},
   "outputs": [
    {
     "data": {
      "text/html": [
       "\n",
       "<link rel=\"stylesheet\" type=\"text/css\" href=\"https://cdn.jsdelivr.net/gh/bmabey/pyLDAvis@3.4.0/pyLDAvis/js/ldavis.v1.0.0.css\">\n",
       "\n",
       "\n",
       "<div id=\"ldavis_el131618391814138723125457642\" style=\"background-color:white;\"></div>\n",
       "<script type=\"text/javascript\">\n",
       "\n",
       "var ldavis_el131618391814138723125457642_data = {\"mdsDat\": {\"x\": [0.22955053479284104, -0.22065982172368453, 0.03282542672430337, 0.019970130074677447, -0.06168626986813699], \"y\": [-0.07128531600439734, -0.08511849664969051, -0.08848604645114948, 0.1909499353037621, 0.0539399238014751], \"topics\": [1, 2, 3, 4, 5], \"cluster\": [1, 1, 1, 1, 1], \"Freq\": [16.423228065624215, 26.691291709497644, 36.239894721610895, 7.070191729235242, 13.575393774032015]}, \"tinfo\": {\"Term\": [\"said\", \"state\", \"mrs\", \"states\", \"tax\", \"government\", \"development\", \"united\", \"president\", \"sales\", \"fiscal\", \"business\", \"feed\", \"af\", \"old\", \"shall\", \"forces\", \"use\", \"program\", \"got\", \"design\", \"clay\", \"1960\", \"game\", \"went\", \"medical\", \"company\", \"didn\", \"property\", \"service\", \"marketing\", \"payment\", \"bank\", \"sales\", \"loan\", \"employee\", \"export\", \"financing\", \"shelter\", \"puerto\", \"rico\", \"maintain\", \"consumer\", \"rehabilitation\", \"procurement\", \"farmers\", \"commodities\", \"markets\", \"resources\", \"exceed\", \"boats\", \"payments\", \"recovery\", \"adjustments\", \"thereof\", \"allocation\", \"amended\", \"fiscal\", \"financed\", \"vehicles\", \"towns\", \"loans\", \"interference\", \"expenditures\", \"management\", \"property\", \"income\", \"products\", \"tax\", \"purposes\", \"shall\", \"corporation\", \"development\", \"product\", \"substantial\", \"employees\", \"1960\", \"industrial\", \"facilities\", \"planning\", \"production\", \"state\", \"company\", \"business\", \"industry\", \"states\", \"services\", \"market\", \"section\", \"government\", \"act\", \"plant\", \"program\", \"service\", \"united\", \"rhode\", \"million\", \"interest\", \"small\", \"use\", \"000\", \"island\", \"mrs\", \"mother\", \"god\", \"love\", \"wasn\", \"woman\", \"walked\", \"evening\", \"hair\", \"baby\", \"anne\", \"girls\", \"dinner\", \"hadn\", \"dance\", \"nice\", \"susan\", \"pale\", \"smiled\", \"fell\", \"breakfast\", \"tour\", \"alexander\", \"son\", \"brother\", \"warren\", \"flowers\", \"ballet\", \"couldn\", \"quietly\", \"didn\", \"looked\", \"got\", \"isn\", \"went\", \"father\", \"beautiful\", \"eyes\", \"thought\", \"miss\", \"tried\", \"girl\", \"knew\", \"boy\", \"old\", \"came\", \"young\", \"said\", \"night\", \"know\", \"room\", \"door\", \"little\", \"child\", \"man\", \"away\", \"going\", \"don\", \"left\", \"come\", \"john\", \"car\", \"took\", \"good\", \"day\", \"way\", \"home\", \"life\", \"people\", \"right\", \"kennedy\", \"committee\", \"political\", \"nations\", \"corps\", \"khrushchev\", \"berlin\", \"democratic\", \"education\", \"faculty\", \"senate\", \"laos\", \"judge\", \"rayburn\", \"motors\", \"congo\", \"georgia\", \"speaker\", \"republican\", \"attorney\", \"moscow\", \"cuba\", \"workers\", \"soviet\", \"justice\", \"communist\", \"sen\", \"castro\", \"academic\", \"communism\", \"election\", \"russian\", \"schools\", \"president\", \"vote\", \"junior\", \"county\", \"governor\", \"court\", \"union\", \"members\", \"peace\", \"students\", \"mr\", \"university\", \"american\", \"board\", \"east\", \"public\", \"city\", \"world\", \"council\", \"united\", \"west\", \"war\", \"country\", \"state\", \"said\", \"000\", \"general\", \"government\", \"school\", \"department\", \"states\", \"people\", \"college\", \"week\", \"program\", \"national\", \"house\", \"fig\", \"musical\", \"measurements\", \"parallel\", \"missile\", \"vertical\", \"recorded\", \"transparent\", \"precise\", \"drawings\", \"defects\", \"gear\", \"tapered\", \"screw\", \"polaris\", \"measuring\", \"drill\", \"films\", \"battery\", \"af\", \"convey\", \"measurement\", \"radiation\", \"tool\", \"diameter\", \"engines\", \"missiles\", \"precision\", \"bars\", \"pieces\", \"bridge\", \"aircraft\", \"design\", \"engine\", \"file\", \"wooden\", \"surface\", \"frame\", \"pressure\", \"electrical\", \"sign\", \"volume\", \"tractor\", \"forces\", \"chamber\", \"library\", \"form\", \"medical\", \"speed\", \"piece\", \"music\", \"formula\", \"shown\", \"large\", \"work\", \"nuclear\", \"light\", \"small\", \"place\", \"use\", \"high\", \"roof\", \"yards\", \"yankees\", \"builder\", \"frames\", \"hits\", \"runs\", \"pitching\", \"willie\", \"stadium\", \"bat\", \"panels\", \"shooting\", \"cream\", \"bowl\", \"injury\", \"clay\", \"feed\", \"flavor\", \"player\", \"teams\", \"yankee\", \"cooking\", \"cooling\", \"games\", \"cattle\", \"outdoor\", \"champions\", \"pennant\", \"coach\", \"textile\", \"salt\", \"site\", \"plastic\", \"forest\", \"models\", \"recreation\", \"game\", \"baseball\", \"boat\", \"inch\", \"oil\", \"team\", \"lumber\", \"double\", \"season\", \"brown\", \"league\", \"pool\", \"water\", \"use\", \"cut\", \"run\", \"hit\", \"area\", \"better\", \"good\", \"national\", \"set\", \"home\", \"high\", \"start\", \"head\", \"don\", \"house\", \"way\", \"work\", \"place\", \"10\", \"best\", \"right\"], \"Freq\": [796.0, 491.0, 305.0, 336.0, 177.0, 277.0, 200.0, 304.0, 298.0, 117.0, 111.0, 210.0, 95.0, 70.0, 253.0, 127.0, 87.0, 252.0, 232.0, 146.0, 72.0, 80.0, 129.0, 88.0, 136.0, 99.0, 139.0, 124.0, 95.0, 206.0, 41.29090085047264, 41.285310219362835, 40.3301418769437, 115.29541721193206, 32.677884301053645, 24.078308153917636, 22.173138294317752, 28.545969888341087, 57.0745765786269, 19.297557761932424, 19.297557761932424, 19.29527631571732, 19.294889787956947, 18.348920222947793, 18.347668253764628, 17.381130038442272, 16.43736950402982, 16.427007697148053, 37.21088700077125, 14.527625962775549, 37.20425966358974, 38.95666808874297, 13.562542363974808, 12.607965379834525, 11.66133969643055, 11.65824311412518, 11.657068224993006, 104.16476688177161, 11.650919960269402, 40.25128584052747, 31.900447409736767, 29.257922222222806, 33.43975803919576, 24.696921871784514, 76.5546983641245, 83.12127609939807, 71.19927343271522, 55.585112537883994, 145.190704059927, 38.48256452074276, 99.80425289847656, 30.239815377493834, 148.12695488485656, 41.66160125825852, 28.539043379188886, 44.27521852596091, 93.6020071120915, 61.25006770066397, 52.89059525963863, 64.63439151059525, 63.99196979668179, 252.07032814759944, 92.09053050728198, 124.75751081887785, 69.04494318276534, 173.2476045309554, 66.81483990074658, 66.63425046777289, 59.70012313574051, 125.54032014024708, 76.39954543418467, 56.74674350368351, 102.99493632346464, 93.72552458533893, 112.89175474477126, 58.551062851634235, 69.08429896822079, 69.61693772420536, 76.32962691353198, 80.08329943446633, 81.09333138059559, 62.44913442169584, 304.9516064107209, 96.27827619144097, 62.303642410786495, 59.39236493961306, 57.45260753687285, 54.53774074758101, 46.77911531395606, 39.977198236327126, 35.13351798302018, 35.13315137198964, 34.16116833630024, 39.82139444899892, 33.1834206312676, 31.25190812489848, 29.29779330169091, 27.36734017871693, 26.398743864479876, 26.39795075239362, 26.39749240465824, 26.38740821910038, 25.42075887952892, 25.418668754527612, 24.454092454312587, 71.39682576885802, 24.44843811606338, 24.425160803221903, 23.480218462939384, 23.476620956063385, 51.59600153305956, 21.541088516856025, 119.4103144942062, 82.07151644376661, 137.70420719503542, 41.83299662375161, 127.81632508928968, 59.80000871184467, 48.053182302535134, 91.4182718282984, 128.32169769752943, 92.19154817293136, 46.06741984448961, 43.27238880180806, 81.42025495805966, 73.92211328344193, 205.28509533141818, 130.04714971178586, 110.59095000662508, 483.71945983284905, 118.92414951923048, 142.52231443477976, 84.33095863986918, 61.42231895463604, 162.84147989084263, 58.93730266256361, 177.55551937149423, 93.59691836018203, 96.43109161706118, 117.28208983326438, 109.28921980266443, 119.1609631328513, 110.8767280183626, 91.61197656338584, 88.87498600654529, 149.3757332513701, 143.0787213319268, 132.77598968355628, 115.00674020582886, 93.42680447498846, 100.70617069001385, 95.70689044304115, 131.17436170141835, 110.64504062905121, 83.27718841013963, 79.36913408504033, 76.43482382999899, 72.5293551604917, 64.70805250461852, 60.79852094220731, 86.74779041290613, 52.97718871352985, 51.01744648300385, 50.046833119936316, 50.04361939228741, 46.13620865729385, 46.12204929669109, 43.204172168759534, 42.22085327963367, 41.24737528917834, 39.293305914751144, 39.26090562837523, 37.33908905256709, 37.33860680410088, 34.39278702692282, 79.1723148018677, 30.492518189219087, 72.39908691138567, 29.51837493840014, 29.51837985623966, 29.513064720818857, 28.53980947894238, 53.950585560437965, 36.11100276148007, 88.94972016255626, 279.6768701893315, 54.76622652646031, 62.96420466319025, 99.08921322766672, 55.462858108364784, 101.83728432508076, 65.9703531940921, 128.3960742856639, 100.80723058307555, 66.9109940895384, 291.3204353473148, 107.8965762655637, 200.12088522365406, 141.28060493972637, 82.52605607534497, 149.40725515968361, 148.6523607818346, 168.6436544519756, 66.8105540600436, 186.3349291010308, 87.07823553562187, 108.1500838265578, 107.42679628688286, 227.18519735327297, 306.2794204802454, 155.19916958352007, 127.06169714924742, 149.51048280533826, 114.71834588144691, 108.75111670941392, 157.35064903665594, 133.8913576127262, 94.80280160165127, 110.48135224930067, 118.3343790375419, 110.40523747858964, 107.33108844605225, 28.98829798731396, 19.07915006622926, 11.885233485182729, 10.074610459019434, 35.11070883716262, 8.278938392870435, 8.265965514485496, 7.379605419443799, 7.375357874935882, 7.373658615082383, 7.363157131435106, 18.80325666465178, 6.4751672116986025, 14.547833747555785, 6.4545886736132525, 14.404718910115248, 27.95956187660626, 5.5613905402430115, 10.934292657676894, 60.638095587120745, 4.656673571890116, 10.049079066206385, 28.64552023022244, 24.515203098383683, 9.183826628042059, 9.155065190007283, 17.724160662151345, 17.35158428063246, 22.178898960728805, 39.28731010171765, 38.358914489985274, 41.46696347898053, 52.50180706243385, 21.66830397196848, 34.07806355974932, 17.426520968365327, 24.236633417889216, 23.951508024451012, 35.1050106517697, 20.3794401043845, 32.44303335340358, 26.296902361145282, 16.365633943705202, 41.55267434997778, 18.13239802511003, 24.566236919144313, 34.25096403069962, 36.305570437303196, 24.335151865900965, 26.009240026059302, 26.274429254089267, 20.70480382006136, 23.616215479258177, 29.933836633996837, 33.16966059132744, 23.744950306209272, 24.268374500397673, 27.117882384573406, 25.433372429238744, 25.698493888143506, 24.557928483794576, 28.527913413659636, 25.70093163892267, 24.758335727206013, 23.809853381043066, 20.033495931097637, 15.30310031482568, 37.767014434897916, 13.41713282752653, 12.470872412510577, 12.465257711777031, 12.46226526797329, 31.166720821734945, 31.129124478763003, 11.52461046312291, 11.52377877694021, 11.522163131951901, 74.63312434074771, 88.61852022562502, 9.629913523280662, 43.80148711182094, 9.621569956981192, 8.69271160615605, 8.691797618330774, 33.889919986435714, 27.617680124649798, 18.98257613264267, 18.966160817890618, 7.748754460593128, 7.747917629559112, 20.677085234420158, 25.711521044535818, 17.18017455265613, 46.56658037349753, 23.01804046316808, 36.83740896606153, 24.58851962564344, 31.75184665640232, 73.31356122486862, 33.974401214192184, 35.302029306073, 52.40339649913836, 32.70349448112205, 43.15927095466961, 24.762947187613488, 32.46180287981145, 43.94555868696926, 57.80767727392336, 40.012058386625284, 47.1520382193248, 74.80570164661671, 86.90058008115773, 48.84883422106115, 52.43522488237221, 36.422230064799905, 56.669723763296254, 56.3723458330691, 68.27451034281445, 59.30667899812565, 53.756137887611544, 63.35276007954157, 56.38907073964433, 41.41379924608224, 45.68196449091154, 49.013537474404686, 52.660055343469914, 53.2784977022451, 52.46918242020011, 47.28995355763621, 44.41646145201332, 41.8897516509975, 42.02474635438119], \"Total\": [796.0, 491.0, 305.0, 336.0, 177.0, 277.0, 200.0, 304.0, 298.0, 117.0, 111.0, 210.0, 95.0, 70.0, 253.0, 127.0, 87.0, 252.0, 232.0, 146.0, 72.0, 80.0, 129.0, 88.0, 136.0, 99.0, 139.0, 124.0, 95.0, 206.0, 42.05201190331392, 42.05209848110499, 41.096186941893826, 117.58837726255005, 33.449279424125955, 24.84652930089504, 22.934823488012853, 29.63300987901211, 59.288928748471385, 20.06710829063938, 20.06710829063938, 20.067164570008465, 20.06720561604576, 19.111386908346336, 19.111232834597907, 18.155615847316938, 17.199663357219283, 17.199681210730223, 39.114941914315324, 15.287837584172175, 39.2031241938264, 41.12731243318927, 14.332157838005116, 13.376307629392674, 12.420286895460084, 12.420347464659447, 12.420255312273637, 111.00876805147904, 12.420351265257274, 42.9856141468108, 34.43196840437119, 31.57185462949324, 36.3340959676979, 26.683274062982278, 85.20279054022615, 95.71730160511262, 82.02494221406421, 63.11197962059567, 177.51947928203273, 43.00211039670812, 127.63151487862659, 33.42182921613202, 200.02996211559258, 48.48390663597397, 31.512586071624117, 52.73683839481595, 129.2757088383079, 78.68950347012373, 66.10379598794886, 85.25734920611593, 85.04509633118704, 491.5661519153114, 139.47788361751685, 210.89984204213363, 96.67868479024645, 336.08173329855117, 95.23631084524192, 96.01172181555724, 83.19875752452401, 277.66254327822054, 131.82616436253804, 80.03549844206563, 232.8062751353815, 206.79332535846982, 304.10290681228145, 86.61653926696381, 130.36623559811352, 135.28149970686857, 208.7956723359944, 252.8826416031784, 282.4325636432602, 120.50952280876311, 305.71418637992093, 97.03793089548368, 63.06750916611818, 60.15548844456224, 58.214467911159666, 55.302705677679086, 47.53803700648114, 40.74372351354942, 35.89100635336207, 35.89104636372155, 34.92047238392896, 40.73978936890239, 33.949722089611384, 32.00867896376486, 30.067191981504674, 28.12632774190942, 27.15578056682232, 27.15565549074409, 27.155780985915833, 27.15555969505141, 26.185128458863186, 26.18495869644069, 25.214605714149766, 73.62978341535411, 25.21420025956798, 25.214074786269826, 24.2438422952638, 24.24390452831272, 53.36853898126228, 22.302831309652515, 124.20540179091378, 85.3366460434138, 146.51550569308145, 43.579510767848056, 136.82785830917018, 62.88692905485266, 50.406926895210745, 97.87810571050585, 139.5488924915399, 99.02200336313196, 48.46472643664086, 45.608026188551, 90.30103889998654, 82.32170772192947, 253.05615864995403, 161.83559784399657, 135.82143274796096, 796.9377235684643, 151.23732142028808, 191.1235252772134, 102.48351794254789, 69.80073593861192, 236.9263018523833, 66.42740382115075, 281.69361731286926, 122.70994000739154, 132.77134542060804, 176.0533333824302, 161.15846873478202, 185.05968997654736, 169.15717744188996, 124.68522605039304, 120.43980940314161, 306.138857584731, 302.21259694659926, 273.17843989799917, 265.12775977506226, 161.35572738431503, 265.27425975101505, 212.66244128726572, 131.93458632309793, 111.40708772428808, 84.03713417366437, 80.12721659709186, 77.19464358053469, 73.28479591911254, 65.46474582773084, 61.55479764183772, 87.93733733212906, 53.73476880460546, 51.77962975668029, 50.802332752990445, 50.80228947417083, 46.892324180088636, 46.89196108779042, 43.9598443007314, 42.982248832142645, 42.00479873301438, 40.04983692981738, 40.049030966921094, 38.09483482476171, 38.0948331049065, 35.16195112405564, 81.01219446000168, 31.252263622318104, 74.25443892033131, 30.274837261981343, 30.274849833444154, 30.274443848829552, 29.297330342456842, 55.6125605555067, 37.1090131329874, 92.81233322556422, 298.89352764444664, 56.64196643792968, 65.40716743638801, 105.39635174154786, 57.634648172802315, 109.4033358477289, 69.3533663920347, 142.13597062847245, 111.2617817572817, 72.18485789898845, 389.46107240921066, 125.38958390865972, 264.47594455853795, 176.94087406821018, 95.66346444823698, 202.958788915713, 215.74850724365137, 256.23555111640934, 74.09153762207941, 304.10290681228145, 107.07761830489996, 146.07434982759216, 145.97260947997165, 491.5661519153114, 796.9377235684643, 282.4325636432602, 202.13032660977186, 277.66254327822054, 173.29790869860668, 159.133267885277, 336.08173329855117, 265.27425975101505, 125.85377779698958, 189.41713884811958, 232.8062751353815, 214.15150332767618, 232.21297122749544, 29.76864275611667, 19.862698726011747, 12.657380626764308, 10.856836919969735, 38.04310565085118, 9.055345730383717, 9.056522458401378, 8.154771598523029, 8.155060057277895, 8.15521103045077, 8.155867828043998, 20.863672540953537, 7.254520033658874, 16.339862013235546, 7.255797626685176, 16.31329717562841, 31.743302291780246, 6.354853316048915, 12.738469536243139, 70.76727932522017, 5.454796658650555, 11.81426730568042, 33.70784911174602, 29.073161288156086, 10.933099785792809, 10.928555533416375, 21.933442837216294, 21.838206592254437, 28.34148673518246, 50.236316193637535, 49.38626638409961, 53.966390786768265, 72.11307660113872, 28.27541650925899, 49.846643596966, 22.902914416602826, 33.85515936603158, 36.81546309047905, 61.37403028602933, 30.297295645298487, 55.72717236828212, 42.44212286014895, 23.026760655985147, 87.2471426645013, 26.730462006514138, 44.77009011457516, 77.79856937168199, 99.96649707175726, 49.36566421223861, 58.716045728315294, 60.06792836394634, 36.14220393237096, 59.933967024280236, 142.31689536891548, 257.44588891236873, 77.13661385874212, 90.81308272758069, 208.7956723359944, 187.8640826430907, 252.8826416031784, 217.01279556100306, 29.304295275275056, 26.46884648581648, 25.523658467307133, 24.578395860644505, 20.79779760983556, 16.07226600118201, 39.74066187029752, 14.181975265890925, 13.236868024491454, 13.237031761757883, 13.237042183232425, 33.11516877603612, 33.12550140863737, 12.291737864508887, 12.29155615704073, 12.29184292797121, 80.49149738106827, 95.62699222763595, 10.40107262050426, 47.33440365685161, 10.4011402461895, 9.456247507629378, 9.456232798755485, 36.9248099113151, 30.299548996406674, 20.825984198967774, 20.826348303642742, 8.511077805401454, 8.511099142320562, 22.730843222057942, 28.423113541694978, 18.94006700410968, 51.88577114757125, 25.56964912189318, 41.69847841008956, 27.46928145085586, 35.99823904422158, 88.29082413476874, 38.86367194694621, 41.7081732919426, 66.65441709971974, 39.770215719509, 56.01612425228156, 29.40586739821938, 40.86109234280352, 66.70067661718588, 98.33433641398383, 59.15683789108743, 76.99064982959531, 161.02185968269123, 252.8826416031784, 95.63082381225885, 117.9869740398724, 57.16733087792779, 144.9880129242231, 158.66068075038726, 306.138857584731, 214.15150332767618, 167.9023043921597, 265.12775977506226, 217.01279556100306, 86.29586258299074, 133.697707462778, 176.0533333824302, 232.21297122749544, 273.17843989799917, 257.44588891236873, 187.8640826430907, 144.95110814980137, 138.74999139280354, 212.66244128726572], \"Category\": [\"Default\", \"Default\", \"Default\", \"Default\", \"Default\", \"Default\", \"Default\", \"Default\", \"Default\", \"Default\", \"Default\", \"Default\", \"Default\", \"Default\", \"Default\", \"Default\", \"Default\", \"Default\", \"Default\", \"Default\", \"Default\", \"Default\", \"Default\", \"Default\", \"Default\", \"Default\", \"Default\", \"Default\", \"Default\", \"Default\", \"Topic1\", \"Topic1\", \"Topic1\", \"Topic1\", \"Topic1\", \"Topic1\", \"Topic1\", \"Topic1\", \"Topic1\", \"Topic1\", \"Topic1\", \"Topic1\", \"Topic1\", \"Topic1\", \"Topic1\", \"Topic1\", \"Topic1\", \"Topic1\", \"Topic1\", \"Topic1\", \"Topic1\", \"Topic1\", \"Topic1\", \"Topic1\", \"Topic1\", \"Topic1\", \"Topic1\", \"Topic1\", \"Topic1\", \"Topic1\", \"Topic1\", \"Topic1\", \"Topic1\", \"Topic1\", \"Topic1\", \"Topic1\", \"Topic1\", \"Topic1\", \"Topic1\", \"Topic1\", \"Topic1\", \"Topic1\", \"Topic1\", \"Topic1\", \"Topic1\", \"Topic1\", \"Topic1\", \"Topic1\", \"Topic1\", \"Topic1\", \"Topic1\", \"Topic1\", \"Topic1\", \"Topic1\", \"Topic1\", \"Topic1\", \"Topic1\", \"Topic1\", \"Topic1\", \"Topic1\", \"Topic1\", \"Topic1\", \"Topic1\", \"Topic1\", \"Topic1\", \"Topic1\", \"Topic1\", \"Topic1\", \"Topic1\", \"Topic1\", \"Topic1\", \"Topic1\", \"Topic2\", \"Topic2\", \"Topic2\", \"Topic2\", \"Topic2\", \"Topic2\", \"Topic2\", \"Topic2\", \"Topic2\", \"Topic2\", \"Topic2\", \"Topic2\", \"Topic2\", \"Topic2\", \"Topic2\", \"Topic2\", \"Topic2\", \"Topic2\", \"Topic2\", \"Topic2\", \"Topic2\", \"Topic2\", \"Topic2\", \"Topic2\", \"Topic2\", \"Topic2\", \"Topic2\", \"Topic2\", \"Topic2\", \"Topic2\", \"Topic2\", \"Topic2\", \"Topic2\", \"Topic2\", \"Topic2\", \"Topic2\", \"Topic2\", \"Topic2\", \"Topic2\", \"Topic2\", \"Topic2\", \"Topic2\", \"Topic2\", \"Topic2\", \"Topic2\", \"Topic2\", \"Topic2\", \"Topic2\", \"Topic2\", \"Topic2\", \"Topic2\", \"Topic2\", \"Topic2\", \"Topic2\", \"Topic2\", \"Topic2\", \"Topic2\", \"Topic2\", \"Topic2\", \"Topic2\", \"Topic2\", \"Topic2\", \"Topic2\", \"Topic2\", \"Topic2\", \"Topic2\", \"Topic2\", \"Topic2\", \"Topic2\", \"Topic2\", \"Topic3\", \"Topic3\", \"Topic3\", \"Topic3\", \"Topic3\", \"Topic3\", \"Topic3\", \"Topic3\", \"Topic3\", \"Topic3\", \"Topic3\", \"Topic3\", \"Topic3\", \"Topic3\", \"Topic3\", \"Topic3\", \"Topic3\", \"Topic3\", \"Topic3\", \"Topic3\", \"Topic3\", \"Topic3\", \"Topic3\", \"Topic3\", \"Topic3\", \"Topic3\", \"Topic3\", \"Topic3\", \"Topic3\", \"Topic3\", \"Topic3\", \"Topic3\", \"Topic3\", \"Topic3\", \"Topic3\", \"Topic3\", \"Topic3\", \"Topic3\", \"Topic3\", \"Topic3\", \"Topic3\", \"Topic3\", \"Topic3\", \"Topic3\", \"Topic3\", \"Topic3\", \"Topic3\", \"Topic3\", \"Topic3\", \"Topic3\", \"Topic3\", \"Topic3\", \"Topic3\", \"Topic3\", \"Topic3\", \"Topic3\", \"Topic3\", \"Topic3\", \"Topic3\", \"Topic3\", \"Topic3\", \"Topic3\", \"Topic3\", \"Topic3\", \"Topic3\", \"Topic3\", \"Topic3\", \"Topic3\", \"Topic3\", \"Topic3\", \"Topic4\", \"Topic4\", \"Topic4\", \"Topic4\", \"Topic4\", \"Topic4\", \"Topic4\", \"Topic4\", \"Topic4\", \"Topic4\", \"Topic4\", \"Topic4\", \"Topic4\", \"Topic4\", \"Topic4\", \"Topic4\", \"Topic4\", \"Topic4\", \"Topic4\", \"Topic4\", \"Topic4\", \"Topic4\", \"Topic4\", \"Topic4\", \"Topic4\", \"Topic4\", \"Topic4\", \"Topic4\", \"Topic4\", \"Topic4\", \"Topic4\", \"Topic4\", \"Topic4\", \"Topic4\", \"Topic4\", \"Topic4\", \"Topic4\", \"Topic4\", \"Topic4\", \"Topic4\", \"Topic4\", \"Topic4\", \"Topic4\", \"Topic4\", \"Topic4\", \"Topic4\", \"Topic4\", \"Topic4\", \"Topic4\", \"Topic4\", \"Topic4\", \"Topic4\", \"Topic4\", \"Topic4\", \"Topic4\", \"Topic4\", \"Topic4\", \"Topic4\", \"Topic4\", \"Topic4\", \"Topic4\", \"Topic5\", \"Topic5\", \"Topic5\", \"Topic5\", \"Topic5\", \"Topic5\", \"Topic5\", \"Topic5\", \"Topic5\", \"Topic5\", \"Topic5\", \"Topic5\", \"Topic5\", \"Topic5\", \"Topic5\", \"Topic5\", \"Topic5\", \"Topic5\", \"Topic5\", \"Topic5\", \"Topic5\", \"Topic5\", \"Topic5\", \"Topic5\", \"Topic5\", \"Topic5\", \"Topic5\", \"Topic5\", \"Topic5\", \"Topic5\", \"Topic5\", \"Topic5\", \"Topic5\", \"Topic5\", \"Topic5\", \"Topic5\", \"Topic5\", \"Topic5\", \"Topic5\", \"Topic5\", \"Topic5\", \"Topic5\", \"Topic5\", \"Topic5\", \"Topic5\", \"Topic5\", \"Topic5\", \"Topic5\", \"Topic5\", \"Topic5\", \"Topic5\", \"Topic5\", \"Topic5\", \"Topic5\", \"Topic5\", \"Topic5\", \"Topic5\", \"Topic5\", \"Topic5\", \"Topic5\", \"Topic5\", \"Topic5\", \"Topic5\", \"Topic5\", \"Topic5\", \"Topic5\", \"Topic5\", \"Topic5\", \"Topic5\", \"Topic5\", \"Topic5\"], \"logprob\": [30.0, 29.0, 28.0, 27.0, 26.0, 25.0, 24.0, 23.0, 22.0, 21.0, 20.0, 19.0, 18.0, 17.0, 16.0, 15.0, 14.0, 13.0, 12.0, 11.0, 10.0, 9.0, 8.0, 7.0, 6.0, 5.0, 4.0, 3.0, 2.0, 1.0, -6.2042, -6.2043, -6.2277, -5.1773, -6.4381, -6.7435, -6.8259, -6.5733, -5.8805, -6.9648, -6.9648, -6.965, -6.965, -7.0153, -7.0153, -7.0694, -7.1253, -7.1259, -6.3082, -7.2488, -6.3084, -6.2624, -7.3175, -7.3905, -7.4685, -7.4688, -7.4689, -5.2789, -7.4694, -6.2297, -6.4622, -6.5487, -6.4151, -6.7181, -5.5868, -5.5045, -5.6593, -5.9069, -4.9468, -6.2746, -5.3216, -6.5157, -4.9268, -6.1952, -6.5736, -6.1344, -5.3858, -5.8099, -5.9566, -5.7561, -5.7661, -4.3951, -5.4021, -5.0985, -5.6901, -4.7701, -5.7229, -5.7256, -5.8355, -5.0922, -5.5888, -5.8862, -5.2901, -5.3845, -5.1984, -5.8549, -5.6895, -5.6818, -5.5898, -5.5418, -5.5292, -5.7905, -4.6903, -5.8432, -6.2784, -6.3263, -6.3595, -6.4116, -6.565, -6.7222, -6.8513, -6.8513, -6.8794, -6.7261, -6.9084, -6.9684, -7.033, -7.1011, -7.1371, -7.1372, -7.1372, -7.1376, -7.1749, -7.175, -7.2137, -6.1422, -7.2139, -7.2149, -7.2543, -7.2545, -6.467, -7.3405, -5.6279, -6.0029, -5.4854, -6.6768, -5.5599, -6.3195, -6.5382, -5.895, -5.5559, -5.8866, -6.5804, -6.643, -6.0108, -6.1075, -5.0861, -5.5426, -5.7046, -4.229, -5.632, -5.451, -5.9757, -6.2927, -5.3177, -6.334, -5.2312, -5.8715, -5.8416, -5.6459, -5.7165, -5.63, -5.702, -5.8929, -5.9232, -5.404, -5.4471, -5.5218, -5.6655, -5.8733, -5.7983, -5.8492, -5.8398, -6.01, -6.2941, -6.3422, -6.3798, -6.4323, -6.5464, -6.6087, -6.2533, -6.7464, -6.7841, -6.8033, -6.8034, -6.8847, -6.885, -6.9504, -6.9734, -6.9967, -7.0452, -7.0461, -7.0962, -7.0963, -7.1784, -6.3447, -7.2988, -6.4341, -7.3313, -7.3313, -7.3315, -7.365, -6.7282, -7.1297, -6.2282, -5.0827, -6.7132, -6.5737, -6.1203, -6.7006, -6.0929, -6.5271, -5.8612, -6.1031, -6.5129, -5.0419, -6.0351, -5.4174, -5.7655, -6.3032, -5.7096, -5.7147, -5.5885, -6.5144, -5.4887, -6.2495, -6.0328, -6.0395, -5.2905, -4.9918, -5.6716, -5.8716, -5.7089, -5.9738, -6.0272, -5.6578, -5.8193, -6.1645, -6.0114, -5.9428, -6.0121, -6.0404, -5.7151, -6.1334, -6.6067, -6.772, -5.5235, -6.9683, -6.9699, -7.0833, -7.0839, -7.0841, -7.0855, -6.148, -7.214, -6.4046, -7.2172, -6.4145, -5.7513, -7.3662, -6.6901, -4.9771, -7.5437, -6.7745, -5.727, -5.8827, -6.8646, -6.8677, -6.2071, -6.2283, -5.9829, -5.4111, -5.435, -5.3571, -5.1212, -6.0062, -5.5534, -6.224, -5.8941, -5.906, -5.5237, -6.0675, -5.6025, -5.8126, -6.2868, -5.3551, -6.1843, -5.8806, -5.5483, -5.49, -5.8901, -5.8236, -5.8134, -6.0516, -5.9201, -5.683, -5.5804, -5.9146, -5.8928, -5.7818, -5.846, -5.8356, -5.881, -6.3835, -6.4879, -6.5252, -6.5643, -6.737, -7.0063, -6.103, -7.1379, -7.211, -7.2114, -7.2117, -6.295, -6.2962, -7.2899, -7.29, -7.2901, -5.4218, -5.25, -7.4695, -5.9547, -7.4704, -7.5719, -7.572, -6.2113, -6.4159, -6.7909, -6.7917, -7.6869, -7.687, -6.7054, -6.4874, -6.8906, -5.8935, -6.5981, -6.1279, -6.5321, -6.2764, -5.4396, -6.2088, -6.1704, -5.7754, -6.2469, -5.9695, -6.525, -6.2543, -5.9514, -5.6773, -6.0452, -5.881, -5.4195, -5.2696, -5.8457, -5.7748, -6.1392, -5.6971, -5.7024, -5.5108, -5.6517, -5.7499, -5.5857, -5.7021, -6.0108, -5.9127, -5.8423, -5.7705, -5.7589, -5.7742, -5.8781, -5.9408, -5.9993, -5.9961], \"loglift\": [30.0, 29.0, 28.0, 27.0, 26.0, 25.0, 24.0, 23.0, 22.0, 21.0, 20.0, 19.0, 18.0, 17.0, 16.0, 15.0, 14.0, 13.0, 12.0, 11.0, 10.0, 9.0, 8.0, 7.0, 6.0, 5.0, 4.0, 3.0, 2.0, 1.0, 1.7882, 1.7881, 1.7877, 1.7868, 1.7831, 1.7751, 1.7727, 1.7691, 1.7684, 1.7674, 1.7674, 1.7672, 1.7672, 1.7658, 1.7657, 1.7629, 1.7611, 1.7605, 1.7566, 1.7555, 1.7541, 1.7523, 1.7513, 1.7473, 1.7434, 1.7432, 1.7431, 1.7428, 1.7425, 1.7407, 1.7301, 1.7304, 1.7235, 1.7291, 1.6994, 1.6654, 1.6649, 1.6795, 1.6054, 1.6954, 1.5605, 1.7064, 1.5061, 1.6548, 1.7074, 1.6316, 1.4836, 1.5559, 1.5835, 1.5295, 1.522, 1.1386, 1.3913, 1.2815, 1.4698, 1.1438, 1.452, 1.4412, 1.4746, 1.0127, 1.261, 1.4626, 0.9909, 1.0151, 0.8155, 1.4149, 1.1715, 1.1421, 0.8002, 0.6566, 0.5586, 1.1491, 1.3183, 1.313, 1.3086, 1.3081, 1.3077, 1.3069, 1.3047, 1.3018, 1.2995, 1.2995, 1.2988, 1.298, 1.298, 1.2969, 1.2949, 1.2935, 1.2926, 1.2925, 1.2925, 1.2921, 1.2912, 1.2911, 1.2902, 1.29, 1.29, 1.289, 1.2888, 1.2887, 1.2871, 1.2861, 1.2815, 1.2818, 1.2588, 1.2799, 1.2527, 1.2705, 1.273, 1.2526, 1.237, 1.2494, 1.2701, 1.2683, 1.2173, 1.2132, 1.1116, 1.1021, 1.1153, 0.8216, 1.0805, 1.0274, 1.1259, 1.193, 0.9459, 1.2012, 0.8593, 1.05, 1.001, 0.9146, 0.9324, 0.8806, 0.8984, 1.0126, 1.0169, 0.6033, 0.5731, 0.5994, 0.4856, 0.7744, 0.3523, 0.5224, 1.0092, 1.0081, 1.0059, 1.0055, 1.0051, 1.0046, 1.0034, 1.0026, 1.0014, 1.0008, 1.0002, 1.0, 1.0, 0.9988, 0.9985, 0.9977, 0.9971, 0.9968, 0.9959, 0.9951, 0.995, 0.995, 0.9929, 0.992, 0.9904, 0.9897, 0.9897, 0.9897, 0.9895, 0.9888, 0.9847, 0.9877, 0.9725, 0.9486, 0.9813, 0.9769, 0.9533, 0.9766, 0.9433, 0.965, 0.9133, 0.9163, 0.9391, 0.7247, 0.8648, 0.7362, 0.7899, 0.8673, 0.7087, 0.6425, 0.5967, 0.9116, 0.5252, 0.8083, 0.7144, 0.7084, 0.2432, 0.0587, 0.4163, 0.5508, 0.396, 0.6025, 0.6343, 0.2561, 0.3313, 0.7317, 0.4759, 0.3383, 0.3525, 0.2433, 2.6227, 2.609, 2.5863, 2.5745, 2.5691, 2.5596, 2.5579, 2.5494, 2.5488, 2.5485, 2.547, 2.5453, 2.5356, 2.5331, 2.5323, 2.5249, 2.5224, 2.5159, 2.4966, 2.4948, 2.4911, 2.4875, 2.4865, 2.4788, 2.4749, 2.4722, 2.4362, 2.4193, 2.4041, 2.4034, 2.3966, 2.3858, 2.3319, 2.3831, 2.269, 2.376, 2.3151, 2.2194, 2.0906, 2.2528, 2.1083, 2.1706, 2.3078, 1.9075, 2.2612, 2.0491, 1.8289, 1.6364, 1.9419, 1.835, 1.8224, 2.0922, 1.718, 1.0902, 0.6001, 1.4711, 1.3297, 0.6081, 0.6496, 0.3628, 0.4704, 1.9701, 1.9675, 1.9665, 1.9651, 1.9595, 1.9479, 1.946, 1.9415, 1.9373, 1.9368, 1.9366, 1.9363, 1.9348, 1.9325, 1.9324, 1.9322, 1.9213, 1.9208, 1.9199, 1.9193, 1.919, 1.9127, 1.9126, 1.9111, 1.9042, 1.9042, 1.9033, 1.9031, 1.903, 1.9022, 1.8966, 1.8994, 1.8887, 1.8918, 1.873, 1.8861, 1.8714, 1.811, 1.8625, 1.8302, 1.7564, 1.8013, 1.7362, 1.8251, 1.7668, 1.5796, 1.4657, 1.6059, 1.5066, 1.2303, 0.9288, 1.3251, 1.1859, 1.5461, 1.0575, 0.9621, 0.4964, 0.7129, 0.858, 0.5654, 0.6492, 1.2627, 0.923, 0.7182, 0.5131, 0.3623, 0.4063, 0.6175, 0.8141, 0.7993, 0.3755]}, \"token.table\": {\"Topic\": [1, 3, 4, 5, 1, 2, 3, 4, 5, 1, 3, 5, 3, 1, 2, 3, 4, 1, 3, 4, 5, 1, 3, 4, 2, 1, 1, 2, 3, 4, 5, 2, 1, 3, 4, 5, 3, 2, 3, 4, 5, 2, 2, 1, 3, 4, 5, 2, 5, 5, 3, 4, 2, 5, 3, 1, 2, 3, 5, 1, 2, 3, 4, 5, 1, 2, 3, 5, 1, 2, 5, 1, 2, 5, 2, 3, 5, 2, 2, 4, 5, 2, 1, 2, 3, 5, 5, 1, 2, 3, 5, 1, 2, 3, 5, 1, 2, 3, 4, 5, 3, 2, 5, 2, 4, 5, 2, 4, 1, 2, 3, 4, 5, 2, 3, 5, 3, 5, 2, 3, 1, 2, 3, 4, 5, 3, 1, 3, 2, 3, 1, 2, 3, 3, 1, 4, 5, 2, 5, 1, 5, 3, 2, 3, 1, 3, 5, 2, 3, 4, 5, 2, 3, 5, 2, 3, 5, 3, 2, 3, 4, 5, 2, 1, 2, 3, 4, 5, 4, 3, 1, 3, 5, 1, 4, 5, 1, 3, 4, 5, 3, 4, 2, 3, 5, 2, 2, 3, 4, 5, 2, 3, 5, 2, 3, 5, 4, 3, 4, 5, 2, 3, 5, 1, 3, 3, 4, 1, 4, 1, 1, 3, 2, 4, 5, 2, 4, 2, 1, 1, 4, 1, 2, 3, 4, 5, 1, 2, 3, 5, 3, 1, 2, 4, 2, 5, 2, 4, 2, 3, 4, 4, 1, 1, 3, 1, 3, 5, 2, 3, 4, 5, 2, 5, 1, 2, 3, 4, 5, 1, 3, 4, 5, 2, 3, 4, 5, 5, 2, 3, 5, 2, 5, 3, 4, 1, 2, 3, 4, 3, 2, 3, 2, 2, 1, 2, 3, 4, 5, 1, 2, 3, 4, 5, 2, 3, 4, 1, 2, 3, 2, 3, 2, 2, 2, 3, 4, 5, 1, 2, 3, 4, 5, 2, 4, 5, 5, 1, 2, 3, 4, 5, 1, 2, 3, 5, 1, 2, 4, 5, 1, 2, 3, 4, 1, 3, 5, 1, 3, 4, 5, 5, 1, 2, 3, 4, 5, 1, 3, 5, 1, 2, 3, 5, 2, 4, 2, 3, 4, 3, 3, 5, 3, 3, 3, 2, 3, 1, 2, 3, 5, 3, 1, 2, 3, 4, 5, 2, 3, 5, 1, 2, 3, 4, 5, 2, 3, 4, 2, 3, 4, 5, 1, 2, 3, 4, 5, 1, 2, 3, 4, 5, 1, 1, 3, 2, 3, 4, 2, 2, 5, 1, 2, 3, 4, 5, 1, 2, 3, 1, 2, 3, 5, 1, 1, 1, 4, 4, 4, 5, 1, 3, 4, 2, 3, 4, 1, 2, 3, 2, 3, 3, 4, 3, 4, 2, 5, 3, 2, 3, 2, 3, 4, 5, 2, 2, 4, 4, 1, 2, 3, 4, 5, 3, 2, 1, 2, 3, 4, 5, 3, 4, 2, 3, 4, 5, 1, 2, 3, 5, 2, 5, 2, 2, 5, 4, 1, 1, 3, 2, 3, 4, 5, 1, 2, 3, 4, 5, 2, 3, 4, 5, 1, 2, 4, 5, 5, 1, 2, 3, 4, 5, 1, 3, 4, 5, 1, 2, 4, 5, 2, 5, 2, 5, 4, 3, 1, 2, 5, 4, 4, 5, 2, 3, 5, 2, 3, 4, 5, 1, 1, 2, 4, 1, 2, 3, 4, 5, 1, 2, 3, 5, 1, 3, 4, 5, 1, 2, 3, 4, 1, 2, 3, 5, 1, 1, 3, 5, 2, 3, 4, 3, 4, 1, 1, 3, 5, 1, 3, 1, 4, 1, 2, 3, 1, 1, 2, 3, 4, 5, 5, 2, 3, 5, 1, 2, 3, 4, 5, 3, 5, 3, 1, 2, 3, 5, 1, 2, 3, 5, 2, 3, 4, 2, 3, 3, 4, 1, 2, 5, 1, 2, 3, 4, 5, 3, 3, 1, 2, 3, 5, 1, 3, 1, 2, 3, 4, 5, 1, 2, 3, 5, 1, 3, 3, 5, 1, 3, 4, 5, 2, 3, 4, 5, 1, 3, 4, 5, 1, 2, 3, 4, 5, 2, 2, 4, 3, 4, 3, 3, 4, 5, 5, 2, 3, 4, 5, 1, 2, 3, 5, 1, 2, 3, 4, 2, 3, 4, 1, 5, 1, 2, 4, 5, 2, 4, 1, 2, 3, 2, 3, 4, 5, 5, 3, 5, 1, 1, 2, 5, 2, 3, 5, 2, 4, 5, 2, 1, 2, 3, 4, 4, 2, 5, 2, 3, 1, 2, 3, 4, 2, 3, 4, 5, 1, 2, 3, 4, 5, 1, 5, 4, 1, 2, 3, 4, 5, 1, 3, 2, 1, 2, 3, 4, 2, 2, 1, 2, 3, 4, 5, 1, 2, 3, 4, 5, 2, 3, 4, 5, 2, 3, 5, 1, 2, 3, 4, 5, 5, 2, 2, 4, 1, 2, 3, 4, 5, 3, 2, 3, 4, 5, 5, 5, 5, 2, 3, 4, 5], \"Freq\": [0.28679412513604796, 0.548803572791203, 0.03894735032711762, 0.12392338740446517, 0.2414607273221316, 0.020696633770468424, 0.3242472624040053, 0.10348316885234213, 0.3035506286335369, 0.7271280957938576, 0.14697270021365208, 0.12376648439044385, 0.9909348013063446, 0.5765168118749987, 0.03792873762335518, 0.3489443861348676, 0.03034299009868414, 0.9718676005502604, 0.014130824436592663, 0.8619802906321525, 0.12717741992933398, 0.1297103604289263, 0.09265025744923308, 0.7597321110837113, 0.951829279905489, 0.9661565454706084, 0.9661637138925524, 0.12855611521400423, 0.756212442435319, 0.011343186636529785, 0.10586974194094466, 0.9736408954091761, 0.0827654628681042, 0.413827314340521, 0.1103539504908056, 0.39313594862349494, 0.9738063333470527, 0.7660341125937951, 0.13853808419249483, 0.057045093491027286, 0.040746495350733776, 0.9751735751950042, 0.9486920711612252, 0.973326310213555, 0.14113585632875403, 0.7762472098081472, 0.07056792816437701, 0.1029238823717044, 0.8748530001594874, 0.9065469335136359, 0.07850236617160546, 0.86352602788766, 0.9522500766568368, 0.0396770865273682, 0.9929008228496937, 0.0648648688886823, 0.36036038271490173, 0.2738738908633253, 0.3027027214805174, 0.025211035154279943, 0.3844682861027691, 0.22059655759994948, 0.012605517577139971, 0.3529544921599192, 0.005651605403590936, 0.050864448632318426, 0.796876361906322, 0.1412901350897734, 0.047952231952253115, 0.09590446390450623, 0.8391640591644295, 0.9438023310863235, 0.025508171110441177, 0.9762799637966325, 0.8989123531057086, 0.02429492846231645, 0.07288478538694934, 0.9547403992794986, 0.18223689820977512, 0.7694446813301616, 0.04049708849106114, 0.951844585706928, 0.09152449010394843, 0.21355714357587968, 0.11186326568260364, 0.589824491781001, 0.9764673063317917, 0.5926984050326006, 0.17543872788964976, 0.22285460029225782, 0.009483174480521609, 0.06179110241023501, 0.8032843313330551, 0.08650754337432902, 0.04325377168716451, 0.056141374738101414, 0.7378580679864757, 0.12030294586736016, 0.04010098195578672, 0.048121178346944064, 0.9909215129073726, 0.048016938380735175, 0.9123218292339683, 0.29928401529500026, 0.6733890344137505, 0.9399514589001754, 0.8881876545838175, 0.10537819630655462, 0.046350262756194624, 0.17613099847353955, 0.6906189150672999, 0.009270052551238925, 0.07879544668553086, 0.037271017406934275, 0.037271017406934275, 0.9317754351733568, 0.04399308860788776, 0.923854860765643, 0.2383718671392763, 0.7548442459410416, 0.01621098576562076, 0.6430357687029568, 0.2431647864843114, 0.010807323843747173, 0.08645859074997739, 0.9963459441171684, 0.9302507652444405, 0.9898512820457924, 0.013467208351987076, 0.9696390013430695, 0.6596027815584509, 0.15056150448616812, 0.1864094817447796, 0.9781654299281622, 0.9468184242258213, 0.9166244523653672, 0.9517532183835905, 0.054164124468170316, 0.9207901159588954, 0.8976169378999648, 0.08976169378999647, 0.9845242684579746, 0.9743568213148429, 0.018737631179131593, 0.06748409009276642, 0.9042868072430701, 0.02699363603710657, 0.19181680795972736, 0.7330142304175296, 0.013701200568551954, 0.06165540255848379, 0.018975988892901956, 0.9393114501986468, 0.03795197778580391, 0.0639834237755129, 0.9323298893003309, 0.9762655315526009, 0.9712603254648335, 0.0836550359087724, 0.2405082282377206, 0.1673100718175448, 0.5123870949412309, 0.9645064300596764, 0.08934108065909271, 0.4731768346018614, 0.2746410998038776, 0.02647143130639784, 0.13566608544528894, 0.8582777636403646, 0.9909869309445891, 0.3016339740763971, 0.6849604827984851, 0.012568082253183212, 0.04160133142832278, 0.7349568552337025, 0.22187376761772148, 0.7398891567777947, 0.15997603389790155, 0.019997004237237694, 0.07498876588964135, 0.091465368430961, 0.8231883158786489, 0.9580903751700227, 0.024153538869832507, 0.008051179623277503, 0.9720256299269678, 0.6645713418322381, 0.03408058163242247, 0.022720387754948314, 0.27832474999811685, 0.873916287267344, 0.05730598605031764, 0.05730598605031764, 0.1468389525581717, 0.04894631751939057, 0.7831410803102491, 0.8583468869000049, 0.03150270853385486, 0.882075838947936, 0.06300541706770972, 0.1254397388722331, 0.8676248605329455, 0.010453311572686091, 0.011371733899823652, 0.9893408492846577, 0.9710036628524377, 0.01798154931208218, 0.29705621601895726, 0.6601249244865717, 0.9659296761071356, 0.8343313960270553, 0.1516966174594646, 0.07073282189654344, 0.7780610408619778, 0.1768320547413586, 0.09150340106176777, 0.82353060955591, 0.981746304720969, 0.9811721191707204, 0.9369165096078863, 0.037476660384315456, 0.9592399963966826, 0.9297278419869585, 0.030650368417152477, 0.020433578944768317, 0.020433578944768317, 0.8017693871871177, 0.09076634571929633, 0.07563862143274695, 0.045383172859648165, 0.9863260078911424, 0.9363493997099682, 0.9540933370695435, 0.04770466685347717, 0.06274379085057133, 0.9306995642834747, 0.9574466625608903, 0.974179449079561, 0.040123062571092216, 0.2607999067120994, 0.6820920637085677, 0.9441602664293213, 0.9661562498290126, 0.9786383535929488, 0.033746150123894786, 0.9368629327709609, 0.054049784582940054, 0.9614393019702986, 0.9486945064187786, 0.4813911231626931, 0.4813911231626931, 0.03438508022590665, 0.09592676165929694, 0.8873225453484966, 0.08997594758532847, 0.0385611203937122, 0.3470500835434098, 0.4370260311287383, 0.08997594758532847, 0.13834242121360293, 0.1936793896990441, 0.5810381690971324, 0.08300545272816176, 0.10864999824039838, 0.08148749868029878, 0.6518999894423902, 0.16297499736059756, 0.9616402839953462, 0.1359144635651263, 0.022652410594187718, 0.8268129866878516, 0.06600758315700299, 0.9241061641980418, 0.04793020011395831, 0.9106738021652078, 0.286943582256083, 0.03463112199642381, 0.6283074990779749, 0.04452572828111633, 0.9771475700124813, 0.9428165082661328, 0.04385193061702944, 0.9818411096286351, 0.9830735480085889, 0.007531745625022381, 0.7230475800021486, 0.21088887750062668, 0.030126982500089525, 0.030126982500089525, 0.0489973736700458, 0.48670724512245495, 0.20252247783618932, 0.03593140735803359, 0.22212142730420764, 0.9418798327671911, 0.047776513256306795, 0.0068252161794724, 0.45378825142340784, 0.007202988117831871, 0.5402241088373902, 0.03470134829319209, 0.9542870780627823, 0.9684873291738555, 0.9751746622931177, 0.4338144692282584, 0.11967295702848507, 0.10471383739992444, 0.3440597514568946, 0.10137651074042647, 0.22579313755822258, 0.2995215090058055, 0.11520058038684826, 0.2580493000665401, 0.3323576544192982, 0.017492508127331486, 0.6297302925839334, 0.9332847029097731, 0.05657649735631678, 0.43375314639842866, 0.25648012134863607, 0.015087065961684475, 0.23762128889653047, 0.01722556659456057, 0.2928346321075297, 0.46078390640449524, 0.22823875737792754, 0.030005513318162518, 0.015002756659081259, 0.1500275665908126, 0.7801433462722255, 0.8655903690210239, 0.02438282729636687, 0.04876565459273374, 0.06095706824091717, 0.7751986899137069, 0.19062262866730495, 0.025416350488973994, 0.7137043718550995, 0.21721437404285635, 0.05171770810544199, 0.020687083242176794, 0.9762571870075646, 0.5174395623324535, 0.1256638937093101, 0.21436781868058785, 0.022175981242819432, 0.11827189996170363, 0.9082378168797152, 0.027522358087264095, 0.027522358087264095, 0.5144821633588905, 0.09957719290817235, 0.34022207576958885, 0.041490497045071816, 0.9637556562701621, 0.02294656324452767, 0.656194443999466, 0.33105305282855946, 0.0059116616576528475, 0.9842076118522428, 0.9631971918256649, 0.030577688629386188, 0.9599304665591062, 0.9929162901924049, 0.9961138471419517, 0.8969996468115061, 0.08859255770977838, 0.01046443653181427, 0.7482072120247204, 0.18835985757265689, 0.05755440092497849, 0.9842067733997271, 0.18269088805375147, 0.14755802496649156, 0.25295661422827126, 0.2107971785235594, 0.2107971785235594, 0.13523373265367317, 0.1859463823988006, 0.6761686632683659, 0.006205072608661335, 0.6763529143440855, 0.1613318878251947, 0.04964058086929068, 0.09928116173858136, 0.13401804608042692, 0.31270877418766285, 0.5584085253351122, 0.5763662778358885, 0.2788869086302686, 0.049579894867603315, 0.0929623028767562, 0.06606977562912034, 0.40743028304624207, 0.0770814049006404, 0.26427910251648135, 0.1761860683443209, 0.029545052386633474, 0.687977648431608, 0.1561667054722055, 0.01688288707807627, 0.11395948777701483, 0.9865683377381845, 0.9185396404590463, 0.06334756141096871, 0.9609001970652055, 0.023436590172322084, 0.011718295086161042, 0.9807916372314538, 0.13602727461942554, 0.8501704663714096, 0.9468203608793141, 0.6318922015272371, 0.3336958817053949, 0.010649868565065794, 0.024849693318486854, 0.9037262689611859, 0.07042022875022227, 0.03521011437511114, 0.6978314598785131, 0.041661579694239594, 0.20830789847119796, 0.05207697461779949, 0.9749830779622933, 0.930249799631066, 0.08464342088477969, 0.8464342088477969, 0.9480634543473977, 0.8581956087280499, 0.061299686337717846, 0.24008043397551967, 0.3901307052102195, 0.3601206509632795, 0.04924861714489725, 0.9005461420781211, 0.04221310040991193, 0.5292781500012759, 0.007670697826105448, 0.45257117174022143, 0.9290864340788888, 0.06059259352688405, 0.05257194347789142, 0.9200090108630998, 0.18236991017264595, 0.8206645957769068, 0.07280860271420336, 0.9101075339275421, 0.971260281615657, 0.9893038641085453, 0.9809783795111383, 0.2079797076994963, 0.7471863572907831, 0.017973554986376223, 0.025676507123394605, 0.997663875568295, 0.5493780274900755, 0.43284329438612007, 0.956566892650797, 0.1167397828711347, 0.02801754788907233, 0.5136550446329927, 0.06537427840783544, 0.2755058875758779, 0.9859321633152452, 0.9599546818822301, 0.05289699609111711, 0.7868428168553669, 0.13224249022779277, 0.006612124511389639, 0.019836373534168915, 0.687092644448423, 0.31113629182570096, 0.1005777798192286, 0.0502888899096143, 0.0502888899096143, 0.8297666835086359, 0.015806768036549134, 0.8100968618731431, 0.11459906826498122, 0.059275380137059255, 0.048016098906071294, 0.9123058792153546, 0.9574432850225991, 0.030197641653683875, 0.9361268912642001, 0.9210785861217372, 0.9749810706455535, 0.9482749465663467, 0.04862948443929983, 0.08089030984272352, 0.9077690326794529, 0.008987812204747057, 0.9399491024867547, 0.026387784501105238, 0.380738033515947, 0.5051375890211575, 0.06408461950268415, 0.026387784501105238, 0.05109335894111951, 0.20437343576447803, 0.4428091108230357, 0.306560153646717, 0.019905918183679455, 0.1393414272857562, 0.7763308091634987, 0.05971775455103836, 0.9166565133748544, 0.10113694822706859, 0.3566408174322945, 0.15436692097815732, 0.13307493187772182, 0.250180871930117, 0.7623976185660863, 0.17593791197678915, 0.023458388263571887, 0.04691677652714377, 0.7121839822270856, 0.08746119079981753, 0.04997782331418144, 0.1624279257710897, 0.07821773347243804, 0.8995039349330375, 0.06337884853791229, 0.9295564452227136, 0.8269249376434319, 0.9876586203960607, 0.2857489844376293, 0.09092013141197297, 0.6104637394803899, 0.8583627773228875, 0.778452201566293, 0.18316522389795128, 0.053530767715495815, 0.9367884350211768, 0.006691345964436977, 0.032587072914702545, 0.3421642656043767, 0.5702737760072945, 0.06517414582940509, 0.941854466207633, 0.8662668277815084, 0.04125080132292897, 0.10312700330732243, 0.7525419190633622, 0.05879233742682517, 0.08230927239755524, 0.035275402456095103, 0.07055080491219021, 0.8873117328382014, 0.04753455711633222, 0.03168970474422148, 0.04753455711633222, 0.44242793687628673, 0.5068591898194352, 0.00429541686287657, 0.0429541686287657, 0.8671368562229366, 0.010447432002685983, 0.10447432002685983, 0.020894864005371966, 0.19215723649295305, 0.009854217256048873, 0.7341391855756411, 0.06405241216431769, 0.9468230162919314, 0.883677560227578, 0.023254672637567843, 0.06976401791270354, 0.986421844587891, 0.11866672319374237, 0.8603337431546322, 0.9809707836902753, 0.8833412644583811, 0.9768242966788768, 0.05555827321284037, 0.05555827321284037, 0.8889323714054459, 0.941846873087951, 0.9737867364689375, 0.9459300765689928, 0.025565677745107915, 0.681163210852307, 0.02309027833397651, 0.3001736183416946, 0.9468230162919314, 0.028213726710186512, 0.4514196273629842, 0.26332811596174077, 0.06112974120540411, 0.19749608697130558, 0.9896160179790503, 0.8196439943356577, 0.02927299979770206, 0.1463649989885103, 0.05932858315049615, 0.2288388207233423, 0.26274086823791154, 0.008475511878642308, 0.44072661768939997, 0.025163144068000732, 0.9561994745840279, 0.9701147230993982, 0.0062740159640221295, 0.6073247453173422, 0.3839697769981543, 0.002509606385608852, 0.9779878137379959, 0.017008483717182537, 0.05279812366994355, 0.8975681023890403, 0.317372554654736, 0.6635971597326299, 0.01731123025389469, 0.03232329040483254, 0.958924282010032, 0.061200027221159164, 0.9180004083173875, 0.04497705498877998, 0.2848546815956065, 0.6596634731687729, 0.7211646157373702, 0.13221351288518454, 0.07211646157373702, 0.048077641049158015, 0.03605823078686851, 0.9909219243821838, 0.9849433114847695, 0.4545601258505511, 0.04835746019686714, 0.47390310992929796, 0.02417873009843357, 0.7035131811108722, 0.2940055085239466, 0.125072732479904, 0.2382337761521981, 0.2739688425750278, 0.03573506642282971, 0.32161559780546745, 0.7835055479447748, 0.03134022191779099, 0.1645361650684027, 0.015670110958895495, 0.9613936565090933, 0.033733110754705024, 0.03018822229025198, 0.9358348909978114, 0.15016526432088087, 0.25027544053480144, 0.40044070485568234, 0.20022035242784117, 0.23327937606608454, 0.1615011065072893, 0.574226156470362, 0.035889134779397626, 0.019273106631793976, 0.019273106631793976, 0.05781931989538193, 0.9058360116943169, 0.3639922185633266, 0.31609850559446784, 0.0814193120470599, 0.12931302501591865, 0.10536616853148928, 0.957438860384267, 0.9642837002450598, 0.027162921133663656, 0.9751618324449269, 0.012343820663859835, 0.9760789537547613, 0.2835979262794798, 0.48616787362196534, 0.20256994734248557, 0.9065476472352586, 0.2549369035953792, 0.2549369035953792, 0.011588041072517236, 0.4751096839732067, 0.5126471768207005, 0.012205885162397631, 0.4617893219773771, 0.012205885162397631, 0.5147557360587612, 0.011901866729682341, 0.4671482691400319, 0.0059509333648411706, 0.055413283566996575, 0.9281724997471926, 0.013853320891749144, 0.920267220661823, 0.06346670487322917, 0.02953759541310402, 0.05907519082620804, 0.7089022899144966, 0.17722557247862414, 0.9574388751603627, 0.8270705673375682, 0.8168117695390056, 0.005633184617510383, 0.17462872314282188, 0.19637202942600882, 0.01785200267509171, 0.01785200267509171, 0.7676361150289436, 0.9614330509256944, 0.07036526793822646, 0.914748483196944, 0.966161257062934, 0.05732757786297012, 0.9172412458075219, 0.021497841698613795, 0.7389583264956452, 0.23248127125705692, 0.02490870763468467, 0.034395984326870674, 0.8598996081717669, 0.10318795298061202, 0.9547465890560384, 0.929368882550948, 0.05808555515943425, 0.2605663944502968, 0.6948437185341247, 0.8583931401914214, 0.9491439110904081, 0.041267126569148174, 0.04325673224053552, 0.9516481092917815, 0.37158474144330805, 0.006576721087492177, 0.6116350611367726, 0.009865081631238266, 0.05582600868266031, 0.8613155625324732, 0.047850864585137404, 0.031900576390091605, 0.3163522790367534, 0.08304247324714777, 0.15422173603041728, 0.10281449068694486, 0.34403310345246935, 0.9305438759903745, 0.046527193799518723, 0.8834560532744014, 0.21205348350872794, 0.04712299633527287, 0.07068449450290931, 0.6125989523585473, 0.04712299633527287, 0.017654754290634248, 0.9710114859848835, 0.9886819683697123, 0.01369165772334807, 0.1369165772334807, 0.7393495170607958, 0.10953326178678456, 0.9518493223899318, 0.9791380398252021, 0.1738894337400937, 0.2732548244487187, 0.037262021515734364, 0.04968269535431248, 0.46577526894667953, 0.02196366595489861, 0.4868612620002525, 0.23061849252643538, 0.06589099786469582, 0.19401238260160436, 0.31676119893305865, 0.5807288647106076, 0.010558706631101955, 0.08446965304881564, 0.9354820106207966, 0.05115917245582482, 0.014616906415949947, 0.03735607929390186, 0.09339019823475465, 0.8124947246423655, 0.009339019823475465, 0.04669509911737733, 0.9065588610385067, 0.9945263857532877, 0.21831282731316456, 0.7422636128647595, 0.07380191651251171, 0.24471161790990723, 0.3495880255855818, 0.12818227604804663, 0.20198419256055836, 0.9669543046699504, 0.25757549923279693, 0.6595493843991316, 0.04683190895141763, 0.03512393171356322, 0.9517517379635766, 0.9794834087762976, 0.9822868561322566, 0.817249514706407, 0.15461477305256352, 0.014725216481196525, 0.014725216481196525], \"Term\": [\"000\", \"000\", \"000\", \"000\", \"10\", \"10\", \"10\", \"10\", \"10\", \"1960\", \"1960\", \"1960\", \"academic\", \"act\", \"act\", \"act\", \"act\", \"adjustments\", \"af\", \"af\", \"af\", \"aircraft\", \"aircraft\", \"aircraft\", \"alexander\", \"allocation\", \"amended\", \"american\", \"american\", \"american\", \"american\", \"anne\", \"area\", \"area\", \"area\", \"area\", \"attorney\", \"away\", \"away\", \"away\", \"away\", \"baby\", \"ballet\", \"bank\", \"bars\", \"bars\", \"bars\", \"baseball\", \"baseball\", \"bat\", \"battery\", \"battery\", \"beautiful\", \"beautiful\", \"berlin\", \"best\", \"best\", \"best\", \"best\", \"better\", \"better\", \"better\", \"better\", \"better\", \"board\", \"board\", \"board\", \"board\", \"boat\", \"boat\", \"boat\", \"boats\", \"boats\", \"bowl\", \"boy\", \"boy\", \"boy\", \"breakfast\", \"bridge\", \"bridge\", \"bridge\", \"brother\", \"brown\", \"brown\", \"brown\", \"brown\", \"builder\", \"business\", \"business\", \"business\", \"business\", \"came\", \"came\", \"came\", \"came\", \"car\", \"car\", \"car\", \"car\", \"car\", \"castro\", \"cattle\", \"cattle\", \"chamber\", \"chamber\", \"champions\", \"child\", \"child\", \"city\", \"city\", \"city\", \"city\", \"city\", \"clay\", \"clay\", \"clay\", \"coach\", \"coach\", \"college\", \"college\", \"come\", \"come\", \"come\", \"come\", \"come\", \"committee\", \"commodities\", \"communism\", \"communist\", \"communist\", \"company\", \"company\", \"company\", \"congo\", \"consumer\", \"convey\", \"cooking\", \"cooling\", \"cooling\", \"corporation\", \"corporation\", \"corps\", \"couldn\", \"couldn\", \"council\", \"council\", \"council\", \"country\", \"country\", \"country\", \"country\", \"county\", \"county\", \"county\", \"court\", \"court\", \"cream\", \"cuba\", \"cut\", \"cut\", \"cut\", \"cut\", \"dance\", \"day\", \"day\", \"day\", \"day\", \"day\", \"defects\", \"democratic\", \"department\", \"department\", \"department\", \"design\", \"design\", \"design\", \"development\", \"development\", \"development\", \"development\", \"diameter\", \"diameter\", \"didn\", \"didn\", \"didn\", \"dinner\", \"don\", \"don\", \"don\", \"don\", \"door\", \"door\", \"door\", \"double\", \"double\", \"double\", \"drawings\", \"drill\", \"drill\", \"drill\", \"east\", \"east\", \"east\", \"education\", \"education\", \"election\", \"election\", \"electrical\", \"electrical\", \"employee\", \"employees\", \"employees\", \"engine\", \"engine\", \"engine\", \"engines\", \"engines\", \"evening\", \"exceed\", \"expenditures\", \"expenditures\", \"export\", \"eyes\", \"eyes\", \"eyes\", \"eyes\", \"facilities\", \"facilities\", \"facilities\", \"facilities\", \"faculty\", \"farmers\", \"father\", \"father\", \"feed\", \"feed\", \"fell\", \"fig\", \"file\", \"file\", \"file\", \"films\", \"financed\", \"financing\", \"financing\", \"fiscal\", \"fiscal\", \"flavor\", \"flowers\", \"forces\", \"forces\", \"forces\", \"forest\", \"forest\", \"form\", \"form\", \"form\", \"form\", \"form\", \"formula\", \"formula\", \"formula\", \"formula\", \"frame\", \"frame\", \"frame\", \"frame\", \"frames\", \"game\", \"game\", \"game\", \"games\", \"games\", \"gear\", \"gear\", \"general\", \"general\", \"general\", \"general\", \"georgia\", \"girl\", \"girl\", \"girls\", \"god\", \"going\", \"going\", \"going\", \"going\", \"going\", \"good\", \"good\", \"good\", \"good\", \"good\", \"got\", \"got\", \"got\", \"government\", \"government\", \"government\", \"governor\", \"governor\", \"hadn\", \"hair\", \"head\", \"head\", \"head\", \"head\", \"high\", \"high\", \"high\", \"high\", \"high\", \"hit\", \"hit\", \"hit\", \"hits\", \"home\", \"home\", \"home\", \"home\", \"home\", \"house\", \"house\", \"house\", \"house\", \"inch\", \"inch\", \"inch\", \"inch\", \"income\", \"income\", \"income\", \"income\", \"industrial\", \"industrial\", \"industrial\", \"industry\", \"industry\", \"industry\", \"industry\", \"injury\", \"interest\", \"interest\", \"interest\", \"interest\", \"interest\", \"interference\", \"interference\", \"interference\", \"island\", \"island\", \"island\", \"island\", \"isn\", \"isn\", \"john\", \"john\", \"john\", \"judge\", \"junior\", \"junior\", \"justice\", \"kennedy\", \"khrushchev\", \"knew\", \"knew\", \"know\", \"know\", \"know\", \"know\", \"laos\", \"large\", \"large\", \"large\", \"large\", \"large\", \"league\", \"league\", \"league\", \"left\", \"left\", \"left\", \"left\", \"left\", \"library\", \"library\", \"library\", \"life\", \"life\", \"life\", \"life\", \"light\", \"light\", \"light\", \"light\", \"light\", \"little\", \"little\", \"little\", \"little\", \"little\", \"loan\", \"loans\", \"loans\", \"looked\", \"looked\", \"looked\", \"love\", \"lumber\", \"lumber\", \"maintain\", \"man\", \"man\", \"man\", \"man\", \"management\", \"management\", \"management\", \"market\", \"market\", \"market\", \"market\", \"marketing\", \"markets\", \"measurement\", \"measurement\", \"measurements\", \"measuring\", \"measuring\", \"medical\", \"medical\", \"medical\", \"members\", \"members\", \"members\", \"million\", \"million\", \"million\", \"miss\", \"miss\", \"missile\", \"missile\", \"missiles\", \"missiles\", \"models\", \"models\", \"moscow\", \"mother\", \"motors\", \"mr\", \"mr\", \"mr\", \"mr\", \"mrs\", \"music\", \"music\", \"musical\", \"national\", \"national\", \"national\", \"national\", \"national\", \"nations\", \"nice\", \"night\", \"night\", \"night\", \"night\", \"night\", \"nuclear\", \"nuclear\", \"oil\", \"oil\", \"oil\", \"oil\", \"old\", \"old\", \"old\", \"old\", \"outdoor\", \"outdoor\", \"pale\", \"panels\", \"panels\", \"parallel\", \"payment\", \"payments\", \"payments\", \"peace\", \"peace\", \"peace\", \"pennant\", \"people\", \"people\", \"people\", \"people\", \"people\", \"piece\", \"piece\", \"piece\", \"piece\", \"pieces\", \"pieces\", \"pieces\", \"pieces\", \"pitching\", \"place\", \"place\", \"place\", \"place\", \"place\", \"planning\", \"planning\", \"planning\", \"planning\", \"plant\", \"plant\", \"plant\", \"plant\", \"plastic\", \"plastic\", \"player\", \"player\", \"polaris\", \"political\", \"pool\", \"pool\", \"pool\", \"precise\", \"precision\", \"precision\", \"president\", \"president\", \"president\", \"pressure\", \"pressure\", \"pressure\", \"pressure\", \"procurement\", \"product\", \"product\", \"product\", \"production\", \"production\", \"production\", \"production\", \"production\", \"products\", \"products\", \"products\", \"products\", \"program\", \"program\", \"program\", \"program\", \"property\", \"property\", \"property\", \"property\", \"public\", \"public\", \"public\", \"public\", \"puerto\", \"purposes\", \"purposes\", \"purposes\", \"quietly\", \"radiation\", \"radiation\", \"rayburn\", \"recorded\", \"recovery\", \"recreation\", \"recreation\", \"recreation\", \"rehabilitation\", \"republican\", \"resources\", \"resources\", \"rhode\", \"rhode\", \"rhode\", \"rico\", \"right\", \"right\", \"right\", \"right\", \"right\", \"roof\", \"room\", \"room\", \"room\", \"run\", \"run\", \"run\", \"run\", \"run\", \"runs\", \"runs\", \"russian\", \"said\", \"said\", \"said\", \"said\", \"sales\", \"sales\", \"salt\", \"salt\", \"school\", \"school\", \"school\", \"schools\", \"schools\", \"screw\", \"screw\", \"season\", \"season\", \"season\", \"section\", \"section\", \"section\", \"section\", \"section\", \"sen\", \"senate\", \"service\", \"service\", \"service\", \"service\", \"services\", \"services\", \"set\", \"set\", \"set\", \"set\", \"set\", \"shall\", \"shall\", \"shall\", \"shall\", \"shelter\", \"shelter\", \"shooting\", \"shooting\", \"shown\", \"shown\", \"shown\", \"shown\", \"sign\", \"sign\", \"sign\", \"sign\", \"site\", \"site\", \"site\", \"site\", \"small\", \"small\", \"small\", \"small\", \"small\", \"smiled\", \"son\", \"son\", \"soviet\", \"soviet\", \"speaker\", \"speed\", \"speed\", \"speed\", \"stadium\", \"start\", \"start\", \"start\", \"start\", \"state\", \"state\", \"state\", \"state\", \"states\", \"states\", \"states\", \"states\", \"students\", \"students\", \"students\", \"substantial\", \"substantial\", \"surface\", \"surface\", \"surface\", \"surface\", \"susan\", \"tapered\", \"tax\", \"tax\", \"tax\", \"team\", \"team\", \"team\", \"team\", \"teams\", \"textile\", \"textile\", \"thereof\", \"thought\", \"thought\", \"thought\", \"took\", \"took\", \"took\", \"tool\", \"tool\", \"tool\", \"tour\", \"towns\", \"towns\", \"tractor\", \"tractor\", \"transparent\", \"tried\", \"tried\", \"union\", \"union\", \"united\", \"united\", \"united\", \"united\", \"university\", \"university\", \"university\", \"university\", \"use\", \"use\", \"use\", \"use\", \"use\", \"vehicles\", \"vehicles\", \"vertical\", \"volume\", \"volume\", \"volume\", \"volume\", \"volume\", \"vote\", \"vote\", \"walked\", \"war\", \"war\", \"war\", \"war\", \"warren\", \"wasn\", \"water\", \"water\", \"water\", \"water\", \"water\", \"way\", \"way\", \"way\", \"way\", \"way\", \"week\", \"week\", \"week\", \"week\", \"went\", \"went\", \"went\", \"west\", \"west\", \"west\", \"west\", \"west\", \"willie\", \"woman\", \"wooden\", \"wooden\", \"work\", \"work\", \"work\", \"work\", \"work\", \"workers\", \"world\", \"world\", \"world\", \"world\", \"yankee\", \"yankees\", \"yards\", \"young\", \"young\", \"young\", \"young\"]}, \"R\": 30, \"lambda.step\": 0.01, \"plot.opts\": {\"xlab\": \"PC1\", \"ylab\": \"PC2\"}, \"topic.order\": [1, 2, 3, 4, 5]};\n",
       "\n",
       "function LDAvis_load_lib(url, callback){\n",
       "  var s = document.createElement('script');\n",
       "  s.src = url;\n",
       "  s.async = true;\n",
       "  s.onreadystatechange = s.onload = callback;\n",
       "  s.onerror = function(){console.warn(\"failed to load library \" + url);};\n",
       "  document.getElementsByTagName(\"head\")[0].appendChild(s);\n",
       "}\n",
       "\n",
       "if(typeof(LDAvis) !== \"undefined\"){\n",
       "   // already loaded: just create the visualization\n",
       "   !function(LDAvis){\n",
       "       new LDAvis(\"#\" + \"ldavis_el131618391814138723125457642\", ldavis_el131618391814138723125457642_data);\n",
       "   }(LDAvis);\n",
       "}else if(typeof define === \"function\" && define.amd){\n",
       "   // require.js is available: use it to load d3/LDAvis\n",
       "   require.config({paths: {d3: \"https://d3js.org/d3.v5\"}});\n",
       "   require([\"d3\"], function(d3){\n",
       "      window.d3 = d3;\n",
       "      LDAvis_load_lib(\"https://cdn.jsdelivr.net/gh/bmabey/pyLDAvis@3.4.0/pyLDAvis/js/ldavis.v3.0.0.js\", function(){\n",
       "        new LDAvis(\"#\" + \"ldavis_el131618391814138723125457642\", ldavis_el131618391814138723125457642_data);\n",
       "      });\n",
       "    });\n",
       "}else{\n",
       "    // require.js not available: dynamically load d3 & LDAvis\n",
       "    LDAvis_load_lib(\"https://d3js.org/d3.v5.js\", function(){\n",
       "         LDAvis_load_lib(\"https://cdn.jsdelivr.net/gh/bmabey/pyLDAvis@3.4.0/pyLDAvis/js/ldavis.v3.0.0.js\", function(){\n",
       "                 new LDAvis(\"#\" + \"ldavis_el131618391814138723125457642\", ldavis_el131618391814138723125457642_data);\n",
       "            })\n",
       "         });\n",
       "}\n",
       "</script>"
      ],
      "text/plain": [
       "<IPython.core.display.HTML object>"
      ]
     },
     "execution_count": 27,
     "metadata": {},
     "output_type": "execute_result"
    }
   ],
   "source": [
    "pyLDAvis.display(lda_display)"
   ]
  },
  {
   "cell_type": "markdown",
   "id": "5f67df6a",
   "metadata": {},
   "source": [
    "**Q:** What conclusions do you draw from the visualization above? Please address the principal component scatterplot and the salient terms graph.\n",
    "\n",
    "**A:** Topic circles show substantial separation, indicating distinct vocabularies across topics. Two hobbies/sports circles cluster closely, reflecting shared terms such as “game” and “league.” News/politics and government/economy circles occupy regions distant from the narrative/romance circle, signaling divergent word usage. Circle area denotes topic prevalence; inter-circle distance encodes dissimilarity.        \n",
    "\n",
    "Salient-terms panel: Bars report high-relevance words per topic. Large λ values emphasize frequent words; small λ values emphasize topic-unique words. Government/economy shows “state, tax, development.” News/politics shows “president, united, american.” Narrative/romance shows “said, mrs, man/old.” Hobbies/sports topics show “game, league, baseball,” and a technical-leisure topic shows “aircraft, forces, bridge.”"
   ]
  }
 ],
 "metadata": {
  "kernelspec": {
   "display_name": "Python 3 (ipykernel)",
   "language": "python",
   "name": "python3"
  },
  "language_info": {
   "codemirror_mode": {
    "name": "ipython",
    "version": 3
   },
   "file_extension": ".py",
   "mimetype": "text/x-python",
   "name": "python",
   "nbconvert_exporter": "python",
   "pygments_lexer": "ipython3",
   "version": "3.11.7"
  }
 },
 "nbformat": 4,
 "nbformat_minor": 5
}
